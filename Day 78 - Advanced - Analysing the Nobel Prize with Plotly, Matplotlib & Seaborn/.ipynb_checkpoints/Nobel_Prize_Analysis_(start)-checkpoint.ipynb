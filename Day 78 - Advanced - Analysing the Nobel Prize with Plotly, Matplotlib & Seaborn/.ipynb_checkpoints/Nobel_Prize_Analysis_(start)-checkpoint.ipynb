{
 "cells": [
  {
   "cell_type": "markdown",
   "metadata": {
    "id": "FuDxBL8UamHp"
   },
   "source": [
    "# Setup and Context"
   ]
  },
  {
   "cell_type": "markdown",
   "metadata": {
    "id": "9vYVhf9vo7LK"
   },
   "source": [
    "### Introduction\n",
    "\n",
    "On November 27, 1895, Alfred Nobel signed his last will in Paris. When it was opened after his death, the will caused a lot of controversy, as Nobel had left much of his wealth for the establishment of a prize.\n",
    "\n",
    "Alfred Nobel dictates that his entire remaining estate should be used to endow “prizes to those who, during the preceding year, have conferred the greatest benefit to humankind”.\n",
    "\n",
    "Every year the Nobel Prize is given to scientists and scholars in the categories chemistry, literature, physics, physiology or medicine, economics, and peace. \n",
    "\n",
    "<img src=https://i.imgur.com/36pCx5Q.jpg>\n",
    "\n",
    "Let's see what patterns we can find in the data of the past Nobel laureates. What can we learn about the Nobel prize and our world more generally?"
   ]
  },
  {
   "cell_type": "markdown",
   "metadata": {
    "id": "RaHW4kg0sZKP"
   },
   "source": [
    "### Upgrade plotly (only Google Colab Notebook)\n",
    "\n",
    "Google Colab may not be running the latest version of plotly. If you're working in Google Colab, uncomment the line below, run the cell, and restart your notebook server. "
   ]
  },
  {
   "cell_type": "code",
   "execution_count": null,
   "metadata": {
    "id": "od8BRWbAsGxS"
   },
   "outputs": [],
   "source": [
    "# %pip install --upgrade plotly"
   ]
  },
  {
   "cell_type": "markdown",
   "metadata": {
    "id": "QPnGYVYyo7LK"
   },
   "source": [
    "### Import Statements"
   ]
  },
  {
   "cell_type": "code",
   "execution_count": 1,
   "metadata": {
    "id": "dCIwm0dLo7LL"
   },
   "outputs": [],
   "source": [
    "import pandas as pd\n",
    "import numpy as np\n",
    "import plotly.express as px\n",
    "import seaborn as sns\n",
    "import matplotlib.pyplot as plt"
   ]
  },
  {
   "cell_type": "markdown",
   "metadata": {
    "id": "FcJY6qfNo7LN"
   },
   "source": [
    "### Notebook Presentation"
   ]
  },
  {
   "cell_type": "code",
   "execution_count": 2,
   "metadata": {
    "id": "RjzC6BoMo7LO"
   },
   "outputs": [],
   "source": [
    "pd.options.display.float_format = '{:,.2f}'.format"
   ]
  },
  {
   "cell_type": "markdown",
   "metadata": {
    "id": "eoQ5Af4wo7LQ"
   },
   "source": [
    "### Read the Data"
   ]
  },
  {
   "cell_type": "code",
   "execution_count": 3,
   "metadata": {
    "id": "EbVGyi7Eo7LQ"
   },
   "outputs": [],
   "source": [
    "df_data = pd.read_csv('nobel_prize_data.csv')"
   ]
  },
  {
   "cell_type": "markdown",
   "metadata": {
    "id": "XZzHD-1dKKbr"
   },
   "source": [
    "Caveats: The exact birth dates for Michael Houghton, Venkatraman Ramakrishnan, and Nadia Murad are unknown. I've substituted them with mid-year estimate of July 2nd. \n"
   ]
  },
  {
   "cell_type": "markdown",
   "metadata": {
    "id": "rYlGEluAo7LS"
   },
   "source": [
    "# Data Exploration & Cleaning\n",
    "\n",
    "**Challenge**: Preliminary data exploration. \n",
    "* What is the shape of `df_data`? How many rows and columns?\n",
    "* What are the column names?\n",
    "* In which year was the Nobel prize first awarded?\n",
    "* Which year is the latest year included in the dataset?"
   ]
  },
  {
   "cell_type": "code",
   "execution_count": 4,
   "metadata": {
    "id": "4U-OQVRbFOu6"
   },
   "outputs": [
    {
     "data": {
      "text/plain": [
       "(962, 16)"
      ]
     },
     "execution_count": 4,
     "metadata": {},
     "output_type": "execute_result"
    }
   ],
   "source": [
    "df_data.shape"
   ]
  },
  {
   "cell_type": "code",
   "execution_count": 6,
   "metadata": {
    "id": "Iy6cDcXAFOsV"
   },
   "outputs": [
    {
     "data": {
      "text/plain": [
       "Index(['year', 'category', 'prize', 'motivation', 'prize_share',\n",
       "       'laureate_type', 'full_name', 'birth_date', 'birth_city',\n",
       "       'birth_country', 'birth_country_current', 'sex', 'organization_name',\n",
       "       'organization_city', 'organization_country', 'ISO'],\n",
       "      dtype='object')"
      ]
     },
     "execution_count": 6,
     "metadata": {},
     "output_type": "execute_result"
    }
   ],
   "source": [
    "df_data.columns"
   ]
  },
  {
   "cell_type": "code",
   "execution_count": 7,
   "metadata": {},
   "outputs": [
    {
     "name": "stdout",
     "output_type": "stream",
     "text": [
      "<class 'pandas.core.frame.DataFrame'>\n",
      "RangeIndex: 962 entries, 0 to 961\n",
      "Data columns (total 16 columns):\n",
      " #   Column                 Non-Null Count  Dtype \n",
      "---  ------                 --------------  ----- \n",
      " 0   year                   962 non-null    int64 \n",
      " 1   category               962 non-null    object\n",
      " 2   prize                  962 non-null    object\n",
      " 3   motivation             874 non-null    object\n",
      " 4   prize_share            962 non-null    object\n",
      " 5   laureate_type          962 non-null    object\n",
      " 6   full_name              962 non-null    object\n",
      " 7   birth_date             934 non-null    object\n",
      " 8   birth_city             931 non-null    object\n",
      " 9   birth_country          934 non-null    object\n",
      " 10  birth_country_current  934 non-null    object\n",
      " 11  sex                    934 non-null    object\n",
      " 12  organization_name      707 non-null    object\n",
      " 13  organization_city      707 non-null    object\n",
      " 14  organization_country   708 non-null    object\n",
      " 15  ISO                    934 non-null    object\n",
      "dtypes: int64(1), object(15)\n",
      "memory usage: 120.4+ KB\n"
     ]
    }
   ],
   "source": [
    "df_data.info()"
   ]
  },
  {
   "cell_type": "code",
   "execution_count": 9,
   "metadata": {},
   "outputs": [
    {
     "data": {
      "text/html": [
       "<div>\n",
       "<style scoped>\n",
       "    .dataframe tbody tr th:only-of-type {\n",
       "        vertical-align: middle;\n",
       "    }\n",
       "\n",
       "    .dataframe tbody tr th {\n",
       "        vertical-align: top;\n",
       "    }\n",
       "\n",
       "    .dataframe thead th {\n",
       "        text-align: right;\n",
       "    }\n",
       "</style>\n",
       "<table border=\"1\" class=\"dataframe\">\n",
       "  <thead>\n",
       "    <tr style=\"text-align: right;\">\n",
       "      <th></th>\n",
       "      <th>year</th>\n",
       "      <th>category</th>\n",
       "      <th>prize</th>\n",
       "      <th>motivation</th>\n",
       "      <th>prize_share</th>\n",
       "      <th>laureate_type</th>\n",
       "      <th>full_name</th>\n",
       "      <th>birth_date</th>\n",
       "      <th>birth_city</th>\n",
       "      <th>birth_country</th>\n",
       "      <th>birth_country_current</th>\n",
       "      <th>sex</th>\n",
       "      <th>organization_name</th>\n",
       "      <th>organization_city</th>\n",
       "      <th>organization_country</th>\n",
       "      <th>ISO</th>\n",
       "    </tr>\n",
       "  </thead>\n",
       "  <tbody>\n",
       "    <tr>\n",
       "      <th>0</th>\n",
       "      <td>1901</td>\n",
       "      <td>Chemistry</td>\n",
       "      <td>The Nobel Prize in Chemistry 1901</td>\n",
       "      <td>\"in recognition of the extraordinary services ...</td>\n",
       "      <td>1/1</td>\n",
       "      <td>Individual</td>\n",
       "      <td>Jacobus Henricus van 't Hoff</td>\n",
       "      <td>1852-08-30</td>\n",
       "      <td>Rotterdam</td>\n",
       "      <td>Netherlands</td>\n",
       "      <td>Netherlands</td>\n",
       "      <td>Male</td>\n",
       "      <td>Berlin University</td>\n",
       "      <td>Berlin</td>\n",
       "      <td>Germany</td>\n",
       "      <td>NLD</td>\n",
       "    </tr>\n",
       "    <tr>\n",
       "      <th>1</th>\n",
       "      <td>1901</td>\n",
       "      <td>Literature</td>\n",
       "      <td>The Nobel Prize in Literature 1901</td>\n",
       "      <td>\"in special recognition of his poetic composit...</td>\n",
       "      <td>1/1</td>\n",
       "      <td>Individual</td>\n",
       "      <td>Sully Prudhomme</td>\n",
       "      <td>1839-03-16</td>\n",
       "      <td>Paris</td>\n",
       "      <td>France</td>\n",
       "      <td>France</td>\n",
       "      <td>Male</td>\n",
       "      <td>NaN</td>\n",
       "      <td>NaN</td>\n",
       "      <td>NaN</td>\n",
       "      <td>FRA</td>\n",
       "    </tr>\n",
       "    <tr>\n",
       "      <th>2</th>\n",
       "      <td>1901</td>\n",
       "      <td>Medicine</td>\n",
       "      <td>The Nobel Prize in Physiology or Medicine 1901</td>\n",
       "      <td>\"for his work on serum therapy, especially its...</td>\n",
       "      <td>1/1</td>\n",
       "      <td>Individual</td>\n",
       "      <td>Emil Adolf von Behring</td>\n",
       "      <td>1854-03-15</td>\n",
       "      <td>Hansdorf (Lawice)</td>\n",
       "      <td>Prussia (Poland)</td>\n",
       "      <td>Poland</td>\n",
       "      <td>Male</td>\n",
       "      <td>Marburg University</td>\n",
       "      <td>Marburg</td>\n",
       "      <td>Germany</td>\n",
       "      <td>POL</td>\n",
       "    </tr>\n",
       "    <tr>\n",
       "      <th>3</th>\n",
       "      <td>1901</td>\n",
       "      <td>Peace</td>\n",
       "      <td>The Nobel Peace Prize 1901</td>\n",
       "      <td>NaN</td>\n",
       "      <td>1/2</td>\n",
       "      <td>Individual</td>\n",
       "      <td>Frédéric Passy</td>\n",
       "      <td>1822-05-20</td>\n",
       "      <td>Paris</td>\n",
       "      <td>France</td>\n",
       "      <td>France</td>\n",
       "      <td>Male</td>\n",
       "      <td>NaN</td>\n",
       "      <td>NaN</td>\n",
       "      <td>NaN</td>\n",
       "      <td>FRA</td>\n",
       "    </tr>\n",
       "    <tr>\n",
       "      <th>4</th>\n",
       "      <td>1901</td>\n",
       "      <td>Peace</td>\n",
       "      <td>The Nobel Peace Prize 1901</td>\n",
       "      <td>NaN</td>\n",
       "      <td>1/2</td>\n",
       "      <td>Individual</td>\n",
       "      <td>Jean Henry Dunant</td>\n",
       "      <td>1828-05-08</td>\n",
       "      <td>Geneva</td>\n",
       "      <td>Switzerland</td>\n",
       "      <td>Switzerland</td>\n",
       "      <td>Male</td>\n",
       "      <td>NaN</td>\n",
       "      <td>NaN</td>\n",
       "      <td>NaN</td>\n",
       "      <td>CHE</td>\n",
       "    </tr>\n",
       "  </tbody>\n",
       "</table>\n",
       "</div>"
      ],
      "text/plain": [
       "   year    category                                           prize   \n",
       "0  1901   Chemistry               The Nobel Prize in Chemistry 1901  \\\n",
       "1  1901  Literature              The Nobel Prize in Literature 1901   \n",
       "2  1901    Medicine  The Nobel Prize in Physiology or Medicine 1901   \n",
       "3  1901       Peace                      The Nobel Peace Prize 1901   \n",
       "4  1901       Peace                      The Nobel Peace Prize 1901   \n",
       "\n",
       "                                          motivation prize_share   \n",
       "0  \"in recognition of the extraordinary services ...         1/1  \\\n",
       "1  \"in special recognition of his poetic composit...         1/1   \n",
       "2  \"for his work on serum therapy, especially its...         1/1   \n",
       "3                                                NaN         1/2   \n",
       "4                                                NaN         1/2   \n",
       "\n",
       "  laureate_type                     full_name  birth_date         birth_city   \n",
       "0    Individual  Jacobus Henricus van 't Hoff  1852-08-30          Rotterdam  \\\n",
       "1    Individual               Sully Prudhomme  1839-03-16              Paris   \n",
       "2    Individual        Emil Adolf von Behring  1854-03-15  Hansdorf (Lawice)   \n",
       "3    Individual                Frédéric Passy  1822-05-20              Paris   \n",
       "4    Individual             Jean Henry Dunant  1828-05-08             Geneva   \n",
       "\n",
       "      birth_country birth_country_current   sex   organization_name   \n",
       "0       Netherlands           Netherlands  Male   Berlin University  \\\n",
       "1            France                France  Male                 NaN   \n",
       "2  Prussia (Poland)                Poland  Male  Marburg University   \n",
       "3            France                France  Male                 NaN   \n",
       "4       Switzerland           Switzerland  Male                 NaN   \n",
       "\n",
       "  organization_city organization_country  ISO  \n",
       "0            Berlin              Germany  NLD  \n",
       "1               NaN                  NaN  FRA  \n",
       "2           Marburg              Germany  POL  \n",
       "3               NaN                  NaN  FRA  \n",
       "4               NaN                  NaN  CHE  "
      ]
     },
     "execution_count": 9,
     "metadata": {},
     "output_type": "execute_result"
    }
   ],
   "source": [
    "df_data.head()"
   ]
  },
  {
   "cell_type": "code",
   "execution_count": 10,
   "metadata": {},
   "outputs": [
    {
     "data": {
      "text/html": [
       "<div>\n",
       "<style scoped>\n",
       "    .dataframe tbody tr th:only-of-type {\n",
       "        vertical-align: middle;\n",
       "    }\n",
       "\n",
       "    .dataframe tbody tr th {\n",
       "        vertical-align: top;\n",
       "    }\n",
       "\n",
       "    .dataframe thead th {\n",
       "        text-align: right;\n",
       "    }\n",
       "</style>\n",
       "<table border=\"1\" class=\"dataframe\">\n",
       "  <thead>\n",
       "    <tr style=\"text-align: right;\">\n",
       "      <th></th>\n",
       "      <th>year</th>\n",
       "      <th>category</th>\n",
       "      <th>prize</th>\n",
       "      <th>motivation</th>\n",
       "      <th>prize_share</th>\n",
       "      <th>laureate_type</th>\n",
       "      <th>full_name</th>\n",
       "      <th>birth_date</th>\n",
       "      <th>birth_city</th>\n",
       "      <th>birth_country</th>\n",
       "      <th>birth_country_current</th>\n",
       "      <th>sex</th>\n",
       "      <th>organization_name</th>\n",
       "      <th>organization_city</th>\n",
       "      <th>organization_country</th>\n",
       "      <th>ISO</th>\n",
       "    </tr>\n",
       "  </thead>\n",
       "  <tbody>\n",
       "    <tr>\n",
       "      <th>957</th>\n",
       "      <td>2020</td>\n",
       "      <td>Medicine</td>\n",
       "      <td>The Nobel Prize in Physiology or Medicine 2020</td>\n",
       "      <td>“for the discovery of Hepatitis C virus”</td>\n",
       "      <td>1/3</td>\n",
       "      <td>Individual</td>\n",
       "      <td>Michael Houghton</td>\n",
       "      <td>1949-07-02</td>\n",
       "      <td>NaN</td>\n",
       "      <td>United Kingdom</td>\n",
       "      <td>United Kingdom</td>\n",
       "      <td>Male</td>\n",
       "      <td>University of Alberta</td>\n",
       "      <td>Edmonton</td>\n",
       "      <td>Canada</td>\n",
       "      <td>GBR</td>\n",
       "    </tr>\n",
       "    <tr>\n",
       "      <th>958</th>\n",
       "      <td>2020</td>\n",
       "      <td>Peace</td>\n",
       "      <td>The Nobel Peace Prize 2020</td>\n",
       "      <td>“for its efforts to combat hunger, for its con...</td>\n",
       "      <td>1/1</td>\n",
       "      <td>Organization</td>\n",
       "      <td>World Food Programme (WFP)</td>\n",
       "      <td>NaN</td>\n",
       "      <td>NaN</td>\n",
       "      <td>NaN</td>\n",
       "      <td>NaN</td>\n",
       "      <td>NaN</td>\n",
       "      <td>NaN</td>\n",
       "      <td>NaN</td>\n",
       "      <td>NaN</td>\n",
       "      <td>NaN</td>\n",
       "    </tr>\n",
       "    <tr>\n",
       "      <th>959</th>\n",
       "      <td>2020</td>\n",
       "      <td>Physics</td>\n",
       "      <td>The Nobel Prize in Physics 2020</td>\n",
       "      <td>“for the discovery of a supermassive compact o...</td>\n",
       "      <td>1/4</td>\n",
       "      <td>Individual</td>\n",
       "      <td>Andrea Ghez</td>\n",
       "      <td>1965-06-16</td>\n",
       "      <td>New York, NY</td>\n",
       "      <td>United States of America</td>\n",
       "      <td>United States of America</td>\n",
       "      <td>Female</td>\n",
       "      <td>University of California</td>\n",
       "      <td>Berkeley, CA</td>\n",
       "      <td>United States of America</td>\n",
       "      <td>USA</td>\n",
       "    </tr>\n",
       "    <tr>\n",
       "      <th>960</th>\n",
       "      <td>2020</td>\n",
       "      <td>Physics</td>\n",
       "      <td>The Nobel Prize in Physics 2020</td>\n",
       "      <td>“for the discovery of a supermassive compact o...</td>\n",
       "      <td>1/4</td>\n",
       "      <td>Individual</td>\n",
       "      <td>Reinhard Genzel</td>\n",
       "      <td>1952-03-24</td>\n",
       "      <td>Bad Homburg vor der Höhe</td>\n",
       "      <td>Germany</td>\n",
       "      <td>Germany</td>\n",
       "      <td>Male</td>\n",
       "      <td>University of California</td>\n",
       "      <td>Los Angeles, CA</td>\n",
       "      <td>United States of America</td>\n",
       "      <td>DEU</td>\n",
       "    </tr>\n",
       "    <tr>\n",
       "      <th>961</th>\n",
       "      <td>2020</td>\n",
       "      <td>Physics</td>\n",
       "      <td>The Nobel Prize in Physics 2020</td>\n",
       "      <td>“for the discovery that black hole formation i...</td>\n",
       "      <td>1/2</td>\n",
       "      <td>Individual</td>\n",
       "      <td>Roger Penrose</td>\n",
       "      <td>1931-08-08</td>\n",
       "      <td>Colchester</td>\n",
       "      <td>United Kingdom</td>\n",
       "      <td>United Kingdom</td>\n",
       "      <td>Male</td>\n",
       "      <td>University of Oxford</td>\n",
       "      <td>Oxford</td>\n",
       "      <td>United Kingdom</td>\n",
       "      <td>GBR</td>\n",
       "    </tr>\n",
       "  </tbody>\n",
       "</table>\n",
       "</div>"
      ],
      "text/plain": [
       "     year  category                                           prize   \n",
       "957  2020  Medicine  The Nobel Prize in Physiology or Medicine 2020  \\\n",
       "958  2020     Peace                      The Nobel Peace Prize 2020   \n",
       "959  2020   Physics                 The Nobel Prize in Physics 2020   \n",
       "960  2020   Physics                 The Nobel Prize in Physics 2020   \n",
       "961  2020   Physics                 The Nobel Prize in Physics 2020   \n",
       "\n",
       "                                            motivation prize_share   \n",
       "957           “for the discovery of Hepatitis C virus”         1/3  \\\n",
       "958  “for its efforts to combat hunger, for its con...         1/1   \n",
       "959  “for the discovery of a supermassive compact o...         1/4   \n",
       "960  “for the discovery of a supermassive compact o...         1/4   \n",
       "961  “for the discovery that black hole formation i...         1/2   \n",
       "\n",
       "    laureate_type                   full_name  birth_date   \n",
       "957    Individual            Michael Houghton  1949-07-02  \\\n",
       "958  Organization  World Food Programme (WFP)         NaN   \n",
       "959    Individual                 Andrea Ghez  1965-06-16   \n",
       "960    Individual             Reinhard Genzel  1952-03-24   \n",
       "961    Individual               Roger Penrose  1931-08-08   \n",
       "\n",
       "                   birth_city             birth_country   \n",
       "957                       NaN            United Kingdom  \\\n",
       "958                       NaN                       NaN   \n",
       "959              New York, NY  United States of America   \n",
       "960  Bad Homburg vor der Höhe                   Germany   \n",
       "961                Colchester            United Kingdom   \n",
       "\n",
       "        birth_country_current     sex         organization_name   \n",
       "957            United Kingdom    Male     University of Alberta  \\\n",
       "958                       NaN     NaN                       NaN   \n",
       "959  United States of America  Female  University of California   \n",
       "960                   Germany    Male  University of California   \n",
       "961            United Kingdom    Male      University of Oxford   \n",
       "\n",
       "    organization_city      organization_country  ISO  \n",
       "957          Edmonton                    Canada  GBR  \n",
       "958               NaN                       NaN  NaN  \n",
       "959      Berkeley, CA  United States of America  USA  \n",
       "960   Los Angeles, CA  United States of America  DEU  \n",
       "961            Oxford            United Kingdom  GBR  "
      ]
     },
     "execution_count": 10,
     "metadata": {},
     "output_type": "execute_result"
    }
   ],
   "source": [
    "df_data.tail()"
   ]
  },
  {
   "cell_type": "markdown",
   "metadata": {
    "id": "SjA1sZPPMH_Y"
   },
   "source": [
    "**Challange**: \n",
    "* Are there any duplicate values in the dataset?\n",
    "* Are there NaN values in the dataset?\n",
    "* Which columns tend to have NaN values?\n",
    "* How many NaN values are there per column? \n",
    "* Why do these columns have NaN values?  "
   ]
  },
  {
   "cell_type": "code",
   "execution_count": 12,
   "metadata": {},
   "outputs": [
    {
     "name": "stdout",
     "output_type": "stream",
     "text": [
      "Are there any duplicate values in the dataset? False\n"
     ]
    }
   ],
   "source": [
    "print(f\"Are there any duplicate values in the dataset? {df_data.duplicated().values.any()}\")"
   ]
  },
  {
   "cell_type": "code",
   "execution_count": 13,
   "metadata": {},
   "outputs": [
    {
     "name": "stdout",
     "output_type": "stream",
     "text": [
      "Are there NaN values in the dataset? True\n"
     ]
    }
   ],
   "source": [
    "print(f\"Are there NaN values in the dataset? {df_data.isna().values.any()}\")"
   ]
  },
  {
   "cell_type": "code",
   "execution_count": 15,
   "metadata": {},
   "outputs": [
    {
     "data": {
      "text/plain": [
       "year                       0\n",
       "category                   0\n",
       "prize                      0\n",
       "motivation                88\n",
       "prize_share                0\n",
       "laureate_type              0\n",
       "full_name                  0\n",
       "birth_date                28\n",
       "birth_city                31\n",
       "birth_country             28\n",
       "birth_country_current     28\n",
       "sex                       28\n",
       "organization_name        255\n",
       "organization_city        255\n",
       "organization_country     254\n",
       "ISO                       28\n",
       "dtype: int64"
      ]
     },
     "execution_count": 15,
     "metadata": {},
     "output_type": "execute_result"
    }
   ],
   "source": [
    "df_data.isna().sum()"
   ]
  },
  {
   "cell_type": "code",
   "execution_count": 16,
   "metadata": {},
   "outputs": [
    {
     "data": {
      "text/html": [
       "<div>\n",
       "<style scoped>\n",
       "    .dataframe tbody tr th:only-of-type {\n",
       "        vertical-align: middle;\n",
       "    }\n",
       "\n",
       "    .dataframe tbody tr th {\n",
       "        vertical-align: top;\n",
       "    }\n",
       "\n",
       "    .dataframe thead th {\n",
       "        text-align: right;\n",
       "    }\n",
       "</style>\n",
       "<table border=\"1\" class=\"dataframe\">\n",
       "  <thead>\n",
       "    <tr style=\"text-align: right;\">\n",
       "      <th></th>\n",
       "      <th>year</th>\n",
       "      <th>category</th>\n",
       "      <th>laureate_type</th>\n",
       "      <th>birth_date</th>\n",
       "      <th>full_name</th>\n",
       "      <th>organization_name</th>\n",
       "    </tr>\n",
       "  </thead>\n",
       "  <tbody>\n",
       "    <tr>\n",
       "      <th>24</th>\n",
       "      <td>1904</td>\n",
       "      <td>Peace</td>\n",
       "      <td>Organization</td>\n",
       "      <td>NaN</td>\n",
       "      <td>Institut de droit international (Institute of ...</td>\n",
       "      <td>NaN</td>\n",
       "    </tr>\n",
       "    <tr>\n",
       "      <th>60</th>\n",
       "      <td>1910</td>\n",
       "      <td>Peace</td>\n",
       "      <td>Organization</td>\n",
       "      <td>NaN</td>\n",
       "      <td>Bureau international permanent de la Paix (Per...</td>\n",
       "      <td>NaN</td>\n",
       "    </tr>\n",
       "    <tr>\n",
       "      <th>89</th>\n",
       "      <td>1917</td>\n",
       "      <td>Peace</td>\n",
       "      <td>Organization</td>\n",
       "      <td>NaN</td>\n",
       "      <td>Comité international de la Croix Rouge (Intern...</td>\n",
       "      <td>NaN</td>\n",
       "    </tr>\n",
       "    <tr>\n",
       "      <th>200</th>\n",
       "      <td>1938</td>\n",
       "      <td>Peace</td>\n",
       "      <td>Organization</td>\n",
       "      <td>NaN</td>\n",
       "      <td>Office international Nansen pour les Réfugiés ...</td>\n",
       "      <td>NaN</td>\n",
       "    </tr>\n",
       "    <tr>\n",
       "      <th>215</th>\n",
       "      <td>1944</td>\n",
       "      <td>Peace</td>\n",
       "      <td>Organization</td>\n",
       "      <td>NaN</td>\n",
       "      <td>Comité international de la Croix Rouge (Intern...</td>\n",
       "      <td>NaN</td>\n",
       "    </tr>\n",
       "    <tr>\n",
       "      <th>237</th>\n",
       "      <td>1947</td>\n",
       "      <td>Peace</td>\n",
       "      <td>Organization</td>\n",
       "      <td>NaN</td>\n",
       "      <td>American Friends Service Committee (The Quakers)</td>\n",
       "      <td>NaN</td>\n",
       "    </tr>\n",
       "    <tr>\n",
       "      <th>238</th>\n",
       "      <td>1947</td>\n",
       "      <td>Peace</td>\n",
       "      <td>Organization</td>\n",
       "      <td>NaN</td>\n",
       "      <td>Friends Service Council (The Quakers)</td>\n",
       "      <td>NaN</td>\n",
       "    </tr>\n",
       "    <tr>\n",
       "      <th>283</th>\n",
       "      <td>1954</td>\n",
       "      <td>Peace</td>\n",
       "      <td>Organization</td>\n",
       "      <td>NaN</td>\n",
       "      <td>Office of the United Nations High Commissioner...</td>\n",
       "      <td>NaN</td>\n",
       "    </tr>\n",
       "    <tr>\n",
       "      <th>348</th>\n",
       "      <td>1963</td>\n",
       "      <td>Peace</td>\n",
       "      <td>Organization</td>\n",
       "      <td>NaN</td>\n",
       "      <td>Comité international de la Croix Rouge (Intern...</td>\n",
       "      <td>NaN</td>\n",
       "    </tr>\n",
       "    <tr>\n",
       "      <th>349</th>\n",
       "      <td>1963</td>\n",
       "      <td>Peace</td>\n",
       "      <td>Organization</td>\n",
       "      <td>NaN</td>\n",
       "      <td>Ligue des Sociétés de la Croix-Rouge (League o...</td>\n",
       "      <td>NaN</td>\n",
       "    </tr>\n",
       "    <tr>\n",
       "      <th>366</th>\n",
       "      <td>1965</td>\n",
       "      <td>Peace</td>\n",
       "      <td>Organization</td>\n",
       "      <td>NaN</td>\n",
       "      <td>United Nations Children's Fund (UNICEF)</td>\n",
       "      <td>NaN</td>\n",
       "    </tr>\n",
       "    <tr>\n",
       "      <th>399</th>\n",
       "      <td>1969</td>\n",
       "      <td>Peace</td>\n",
       "      <td>Organization</td>\n",
       "      <td>NaN</td>\n",
       "      <td>International Labour Organization (I.L.O.)</td>\n",
       "      <td>NaN</td>\n",
       "    </tr>\n",
       "    <tr>\n",
       "      <th>479</th>\n",
       "      <td>1977</td>\n",
       "      <td>Peace</td>\n",
       "      <td>Organization</td>\n",
       "      <td>NaN</td>\n",
       "      <td>Amnesty International</td>\n",
       "      <td>NaN</td>\n",
       "    </tr>\n",
       "    <tr>\n",
       "      <th>523</th>\n",
       "      <td>1981</td>\n",
       "      <td>Peace</td>\n",
       "      <td>Organization</td>\n",
       "      <td>NaN</td>\n",
       "      <td>Office of the United Nations High Commissioner...</td>\n",
       "      <td>NaN</td>\n",
       "    </tr>\n",
       "    <tr>\n",
       "      <th>558</th>\n",
       "      <td>1985</td>\n",
       "      <td>Peace</td>\n",
       "      <td>Organization</td>\n",
       "      <td>NaN</td>\n",
       "      <td>International Physicians for the Prevention of...</td>\n",
       "      <td>NaN</td>\n",
       "    </tr>\n",
       "    <tr>\n",
       "      <th>588</th>\n",
       "      <td>1988</td>\n",
       "      <td>Peace</td>\n",
       "      <td>Organization</td>\n",
       "      <td>NaN</td>\n",
       "      <td>United Nations Peacekeeping Forces</td>\n",
       "      <td>NaN</td>\n",
       "    </tr>\n",
       "    <tr>\n",
       "      <th>659</th>\n",
       "      <td>1995</td>\n",
       "      <td>Peace</td>\n",
       "      <td>Organization</td>\n",
       "      <td>NaN</td>\n",
       "      <td>Pugwash Conferences on Science and World Affairs</td>\n",
       "      <td>NaN</td>\n",
       "    </tr>\n",
       "    <tr>\n",
       "      <th>682</th>\n",
       "      <td>1997</td>\n",
       "      <td>Peace</td>\n",
       "      <td>Organization</td>\n",
       "      <td>NaN</td>\n",
       "      <td>International Campaign to Ban Landmines (ICBL)</td>\n",
       "      <td>NaN</td>\n",
       "    </tr>\n",
       "    <tr>\n",
       "      <th>703</th>\n",
       "      <td>1999</td>\n",
       "      <td>Peace</td>\n",
       "      <td>Organization</td>\n",
       "      <td>NaN</td>\n",
       "      <td>Médecins Sans Frontières</td>\n",
       "      <td>NaN</td>\n",
       "    </tr>\n",
       "    <tr>\n",
       "      <th>730</th>\n",
       "      <td>2001</td>\n",
       "      <td>Peace</td>\n",
       "      <td>Organization</td>\n",
       "      <td>NaN</td>\n",
       "      <td>United Nations (U.N.)</td>\n",
       "      <td>NaN</td>\n",
       "    </tr>\n",
       "    <tr>\n",
       "      <th>778</th>\n",
       "      <td>2005</td>\n",
       "      <td>Peace</td>\n",
       "      <td>Organization</td>\n",
       "      <td>NaN</td>\n",
       "      <td>International Atomic Energy Agency (IAEA)</td>\n",
       "      <td>NaN</td>\n",
       "    </tr>\n",
       "    <tr>\n",
       "      <th>788</th>\n",
       "      <td>2006</td>\n",
       "      <td>Peace</td>\n",
       "      <td>Organization</td>\n",
       "      <td>NaN</td>\n",
       "      <td>Grameen Bank</td>\n",
       "      <td>NaN</td>\n",
       "    </tr>\n",
       "    <tr>\n",
       "      <th>801</th>\n",
       "      <td>2007</td>\n",
       "      <td>Peace</td>\n",
       "      <td>Organization</td>\n",
       "      <td>NaN</td>\n",
       "      <td>Intergovernmental Panel on Climate Change (IPCC)</td>\n",
       "      <td>NaN</td>\n",
       "    </tr>\n",
       "    <tr>\n",
       "      <th>860</th>\n",
       "      <td>2012</td>\n",
       "      <td>Peace</td>\n",
       "      <td>Organization</td>\n",
       "      <td>NaN</td>\n",
       "      <td>European Union (EU)</td>\n",
       "      <td>NaN</td>\n",
       "    </tr>\n",
       "    <tr>\n",
       "      <th>873</th>\n",
       "      <td>2013</td>\n",
       "      <td>Peace</td>\n",
       "      <td>Organization</td>\n",
       "      <td>NaN</td>\n",
       "      <td>Organisation for the Prohibition of Chemical W...</td>\n",
       "      <td>NaN</td>\n",
       "    </tr>\n",
       "    <tr>\n",
       "      <th>897</th>\n",
       "      <td>2015</td>\n",
       "      <td>Peace</td>\n",
       "      <td>Organization</td>\n",
       "      <td>NaN</td>\n",
       "      <td>National Dialogue Quartet</td>\n",
       "      <td>NaN</td>\n",
       "    </tr>\n",
       "    <tr>\n",
       "      <th>919</th>\n",
       "      <td>2017</td>\n",
       "      <td>Peace</td>\n",
       "      <td>Organization</td>\n",
       "      <td>NaN</td>\n",
       "      <td>International Campaign to Abolish Nuclear Weap...</td>\n",
       "      <td>NaN</td>\n",
       "    </tr>\n",
       "    <tr>\n",
       "      <th>958</th>\n",
       "      <td>2020</td>\n",
       "      <td>Peace</td>\n",
       "      <td>Organization</td>\n",
       "      <td>NaN</td>\n",
       "      <td>World Food Programme (WFP)</td>\n",
       "      <td>NaN</td>\n",
       "    </tr>\n",
       "  </tbody>\n",
       "</table>\n",
       "</div>"
      ],
      "text/plain": [
       "     year category laureate_type birth_date   \n",
       "24   1904    Peace  Organization        NaN  \\\n",
       "60   1910    Peace  Organization        NaN   \n",
       "89   1917    Peace  Organization        NaN   \n",
       "200  1938    Peace  Organization        NaN   \n",
       "215  1944    Peace  Organization        NaN   \n",
       "237  1947    Peace  Organization        NaN   \n",
       "238  1947    Peace  Organization        NaN   \n",
       "283  1954    Peace  Organization        NaN   \n",
       "348  1963    Peace  Organization        NaN   \n",
       "349  1963    Peace  Organization        NaN   \n",
       "366  1965    Peace  Organization        NaN   \n",
       "399  1969    Peace  Organization        NaN   \n",
       "479  1977    Peace  Organization        NaN   \n",
       "523  1981    Peace  Organization        NaN   \n",
       "558  1985    Peace  Organization        NaN   \n",
       "588  1988    Peace  Organization        NaN   \n",
       "659  1995    Peace  Organization        NaN   \n",
       "682  1997    Peace  Organization        NaN   \n",
       "703  1999    Peace  Organization        NaN   \n",
       "730  2001    Peace  Organization        NaN   \n",
       "778  2005    Peace  Organization        NaN   \n",
       "788  2006    Peace  Organization        NaN   \n",
       "801  2007    Peace  Organization        NaN   \n",
       "860  2012    Peace  Organization        NaN   \n",
       "873  2013    Peace  Organization        NaN   \n",
       "897  2015    Peace  Organization        NaN   \n",
       "919  2017    Peace  Organization        NaN   \n",
       "958  2020    Peace  Organization        NaN   \n",
       "\n",
       "                                             full_name organization_name  \n",
       "24   Institut de droit international (Institute of ...               NaN  \n",
       "60   Bureau international permanent de la Paix (Per...               NaN  \n",
       "89   Comité international de la Croix Rouge (Intern...               NaN  \n",
       "200  Office international Nansen pour les Réfugiés ...               NaN  \n",
       "215  Comité international de la Croix Rouge (Intern...               NaN  \n",
       "237   American Friends Service Committee (The Quakers)               NaN  \n",
       "238              Friends Service Council (The Quakers)               NaN  \n",
       "283  Office of the United Nations High Commissioner...               NaN  \n",
       "348  Comité international de la Croix Rouge (Intern...               NaN  \n",
       "349  Ligue des Sociétés de la Croix-Rouge (League o...               NaN  \n",
       "366            United Nations Children's Fund (UNICEF)               NaN  \n",
       "399         International Labour Organization (I.L.O.)               NaN  \n",
       "479                              Amnesty International               NaN  \n",
       "523  Office of the United Nations High Commissioner...               NaN  \n",
       "558  International Physicians for the Prevention of...               NaN  \n",
       "588                 United Nations Peacekeeping Forces               NaN  \n",
       "659   Pugwash Conferences on Science and World Affairs               NaN  \n",
       "682     International Campaign to Ban Landmines (ICBL)               NaN  \n",
       "703                           Médecins Sans Frontières               NaN  \n",
       "730                              United Nations (U.N.)               NaN  \n",
       "778          International Atomic Energy Agency (IAEA)               NaN  \n",
       "788                                       Grameen Bank               NaN  \n",
       "801   Intergovernmental Panel on Climate Change (IPCC)               NaN  \n",
       "860                                European Union (EU)               NaN  \n",
       "873  Organisation for the Prohibition of Chemical W...               NaN  \n",
       "897                          National Dialogue Quartet               NaN  \n",
       "919  International Campaign to Abolish Nuclear Weap...               NaN  \n",
       "958                         World Food Programme (WFP)               NaN  "
      ]
     },
     "execution_count": 16,
     "metadata": {},
     "output_type": "execute_result"
    }
   ],
   "source": [
    "col_subset = ['year','category', 'laureate_type',\n",
    "              'birth_date','full_name', 'organization_name']\n",
    "\n",
    "df_data.loc[df_data.birth_date.isna()][col_subset]"
   ]
  },
  {
   "cell_type": "code",
   "execution_count": 18,
   "metadata": {},
   "outputs": [
    {
     "data": {
      "text/html": [
       "<div>\n",
       "<style scoped>\n",
       "    .dataframe tbody tr th:only-of-type {\n",
       "        vertical-align: middle;\n",
       "    }\n",
       "\n",
       "    .dataframe tbody tr th {\n",
       "        vertical-align: top;\n",
       "    }\n",
       "\n",
       "    .dataframe thead th {\n",
       "        text-align: right;\n",
       "    }\n",
       "</style>\n",
       "<table border=\"1\" class=\"dataframe\">\n",
       "  <thead>\n",
       "    <tr style=\"text-align: right;\">\n",
       "      <th></th>\n",
       "      <th>year</th>\n",
       "      <th>category</th>\n",
       "      <th>laureate_type</th>\n",
       "      <th>full_name</th>\n",
       "      <th>organization_name</th>\n",
       "    </tr>\n",
       "  </thead>\n",
       "  <tbody>\n",
       "    <tr>\n",
       "      <th>1</th>\n",
       "      <td>1901</td>\n",
       "      <td>Literature</td>\n",
       "      <td>Individual</td>\n",
       "      <td>Sully Prudhomme</td>\n",
       "      <td>NaN</td>\n",
       "    </tr>\n",
       "    <tr>\n",
       "      <th>3</th>\n",
       "      <td>1901</td>\n",
       "      <td>Peace</td>\n",
       "      <td>Individual</td>\n",
       "      <td>Frédéric Passy</td>\n",
       "      <td>NaN</td>\n",
       "    </tr>\n",
       "    <tr>\n",
       "      <th>4</th>\n",
       "      <td>1901</td>\n",
       "      <td>Peace</td>\n",
       "      <td>Individual</td>\n",
       "      <td>Jean Henry Dunant</td>\n",
       "      <td>NaN</td>\n",
       "    </tr>\n",
       "    <tr>\n",
       "      <th>7</th>\n",
       "      <td>1902</td>\n",
       "      <td>Literature</td>\n",
       "      <td>Individual</td>\n",
       "      <td>Christian Matthias Theodor Mommsen</td>\n",
       "      <td>NaN</td>\n",
       "    </tr>\n",
       "    <tr>\n",
       "      <th>9</th>\n",
       "      <td>1902</td>\n",
       "      <td>Peace</td>\n",
       "      <td>Individual</td>\n",
       "      <td>Charles Albert Gobat</td>\n",
       "      <td>NaN</td>\n",
       "    </tr>\n",
       "  </tbody>\n",
       "</table>\n",
       "</div>"
      ],
      "text/plain": [
       "   year    category laureate_type                           full_name   \n",
       "1  1901  Literature    Individual                     Sully Prudhomme  \\\n",
       "3  1901       Peace    Individual                      Frédéric Passy   \n",
       "4  1901       Peace    Individual                   Jean Henry Dunant   \n",
       "7  1902  Literature    Individual  Christian Matthias Theodor Mommsen   \n",
       "9  1902       Peace    Individual                Charles Albert Gobat   \n",
       "\n",
       "  organization_name  \n",
       "1               NaN  \n",
       "3               NaN  \n",
       "4               NaN  \n",
       "7               NaN  \n",
       "9               NaN  "
      ]
     },
     "execution_count": 18,
     "metadata": {},
     "output_type": "execute_result"
    }
   ],
   "source": [
    "col_subset=['year','category','laureate_type','full_name','organization_name']\n",
    "\n",
    "df_data.loc[df_data.organization_name.isna()][col_subset].head()"
   ]
  },
  {
   "cell_type": "markdown",
   "metadata": {
    "id": "ZyG18tKXo7Lj"
   },
   "source": [
    "### Type Conversions\n",
    "\n",
    "**Challenge**: \n",
    "* Convert the `birth_date` column to Pandas `Datetime` objects\n",
    "* Add a Column called `share_pct` which has the laureates' share as a percentage in the form of a floating-point number."
   ]
  },
  {
   "cell_type": "markdown",
   "metadata": {
    "id": "tTTFo-CXo7Lk"
   },
   "source": [
    "#### Convert Year and Birth Date to Datetime"
   ]
  },
  {
   "cell_type": "code",
   "execution_count": 19,
   "metadata": {
    "id": "Jas4fWv4Fa4_"
   },
   "outputs": [],
   "source": [
    "df_data.birth_date=pd.to_datetime(df_data.birth_date)"
   ]
  },
  {
   "cell_type": "markdown",
   "metadata": {
    "id": "i456Gr0io7Lm"
   },
   "source": [
    "#### Add a Column with the Prize Share as a Percentage"
   ]
  },
  {
   "cell_type": "code",
   "execution_count": 20,
   "metadata": {
    "id": "4BNug19-FdHP"
   },
   "outputs": [
    {
     "data": {
      "text/html": [
       "<div>\n",
       "<style scoped>\n",
       "    .dataframe tbody tr th:only-of-type {\n",
       "        vertical-align: middle;\n",
       "    }\n",
       "\n",
       "    .dataframe tbody tr th {\n",
       "        vertical-align: top;\n",
       "    }\n",
       "\n",
       "    .dataframe thead th {\n",
       "        text-align: right;\n",
       "    }\n",
       "</style>\n",
       "<table border=\"1\" class=\"dataframe\">\n",
       "  <thead>\n",
       "    <tr style=\"text-align: right;\">\n",
       "      <th></th>\n",
       "      <th>0</th>\n",
       "      <th>1</th>\n",
       "    </tr>\n",
       "  </thead>\n",
       "  <tbody>\n",
       "    <tr>\n",
       "      <th>0</th>\n",
       "      <td>1</td>\n",
       "      <td>1</td>\n",
       "    </tr>\n",
       "    <tr>\n",
       "      <th>1</th>\n",
       "      <td>1</td>\n",
       "      <td>1</td>\n",
       "    </tr>\n",
       "    <tr>\n",
       "      <th>2</th>\n",
       "      <td>1</td>\n",
       "      <td>1</td>\n",
       "    </tr>\n",
       "    <tr>\n",
       "      <th>3</th>\n",
       "      <td>1</td>\n",
       "      <td>2</td>\n",
       "    </tr>\n",
       "    <tr>\n",
       "      <th>4</th>\n",
       "      <td>1</td>\n",
       "      <td>2</td>\n",
       "    </tr>\n",
       "  </tbody>\n",
       "</table>\n",
       "</div>"
      ],
      "text/plain": [
       "   0  1\n",
       "0  1  1\n",
       "1  1  1\n",
       "2  1  1\n",
       "3  1  2\n",
       "4  1  2"
      ]
     },
     "execution_count": 20,
     "metadata": {},
     "output_type": "execute_result"
    }
   ],
   "source": [
    "separated_values=df_data.prize_share.str.split('/',expand=True)\n",
    "separated_values.head()"
   ]
  },
  {
   "cell_type": "code",
   "execution_count": 21,
   "metadata": {
    "id": "RKZXiaO1Fc9v"
   },
   "outputs": [],
   "source": [
    "numerator=pd.to_numeric(separated_values[0])\n",
    "denomenator=pd.to_numeric(separated_values[1])\n",
    "df_data['shared_pct']=numerator/denomenator"
   ]
  },
  {
   "cell_type": "code",
   "execution_count": 22,
   "metadata": {},
   "outputs": [
    {
     "name": "stdout",
     "output_type": "stream",
     "text": [
      "<class 'pandas.core.frame.DataFrame'>\n",
      "RangeIndex: 962 entries, 0 to 961\n",
      "Data columns (total 17 columns):\n",
      " #   Column                 Non-Null Count  Dtype         \n",
      "---  ------                 --------------  -----         \n",
      " 0   year                   962 non-null    int64         \n",
      " 1   category               962 non-null    object        \n",
      " 2   prize                  962 non-null    object        \n",
      " 3   motivation             874 non-null    object        \n",
      " 4   prize_share            962 non-null    object        \n",
      " 5   laureate_type          962 non-null    object        \n",
      " 6   full_name              962 non-null    object        \n",
      " 7   birth_date             934 non-null    datetime64[ns]\n",
      " 8   birth_city             931 non-null    object        \n",
      " 9   birth_country          934 non-null    object        \n",
      " 10  birth_country_current  934 non-null    object        \n",
      " 11  sex                    934 non-null    object        \n",
      " 12  organization_name      707 non-null    object        \n",
      " 13  organization_city      707 non-null    object        \n",
      " 14  organization_country   708 non-null    object        \n",
      " 15  ISO                    934 non-null    object        \n",
      " 16  shared_pct             962 non-null    float64       \n",
      "dtypes: datetime64[ns](1), float64(1), int64(1), object(14)\n",
      "memory usage: 127.9+ KB\n"
     ]
    }
   ],
   "source": [
    "df_data.info()"
   ]
  },
  {
   "cell_type": "markdown",
   "metadata": {
    "id": "-x571TLao7Lq"
   },
   "source": [
    "# Plotly Donut Chart: Percentage of Male vs. Female Laureates"
   ]
  },
  {
   "cell_type": "markdown",
   "metadata": {
    "id": "Q5jBv1lUo7Lq"
   },
   "source": [
    "**Challenge**: Create a [donut chart using plotly](https://plotly.com/python/pie-charts/) which shows how many prizes went to men compared to how many prizes went to women. What percentage of all the prizes went to women?"
   ]
  },
  {
   "cell_type": "code",
   "execution_count": null,
   "metadata": {
    "id": "wxTmkQd-Ff3Q"
   },
   "outputs": [],
   "source": []
  },
  {
   "cell_type": "code",
   "execution_count": null,
   "metadata": {
    "id": "qVJDd4uhFgGk"
   },
   "outputs": [],
   "source": []
  },
  {
   "cell_type": "markdown",
   "metadata": {
    "dc": {
     "key": "38"
    },
    "id": "dmdB0tCko7Lu",
    "run_control": {
     "frozen": true
    },
    "tags": [
     "context"
    ]
   },
   "source": [
    "# Who were the first 3 Women to Win the Nobel Prize?\n",
    "\n",
    "**Challenge**: \n",
    "* What are the names of the first 3 female Nobel laureates? \n",
    "* What did the win the prize for? \n",
    "* What do you see in their `birth_country`? Were they part of an organisation?"
   ]
  },
  {
   "cell_type": "code",
   "execution_count": null,
   "metadata": {
    "id": "nk5h-XFcFiJp"
   },
   "outputs": [],
   "source": []
  },
  {
   "cell_type": "code",
   "execution_count": null,
   "metadata": {
    "id": "fqBSGeNcFiBM"
   },
   "outputs": [],
   "source": []
  },
  {
   "cell_type": "markdown",
   "metadata": {
    "id": "dPVD_f1oo7Lw"
   },
   "source": [
    "# Find the Repeat Winners\n",
    "\n",
    "**Challenge**: Did some people get a Nobel Prize more than once? If so, who were they? "
   ]
  },
  {
   "cell_type": "code",
   "execution_count": null,
   "metadata": {
    "id": "Qqf8_dWUFjpz"
   },
   "outputs": [],
   "source": []
  },
  {
   "cell_type": "code",
   "execution_count": null,
   "metadata": {
    "id": "UuIqCxQvFjdF"
   },
   "outputs": [],
   "source": []
  },
  {
   "cell_type": "markdown",
   "metadata": {
    "dc": {
     "key": "45"
    },
    "id": "x5NtE05go7L1",
    "tags": [
     "sample_code"
    ]
   },
   "source": [
    "# Number of Prizes per Category\n",
    "\n",
    "**Challenge**: \n",
    "* In how many categories are prizes awarded? \n",
    "* Create a plotly bar chart with the number of prizes awarded by category. \n",
    "* Use the color scale called `Aggrnyl` to colour the chart, but don't show a color axis.\n",
    "* Which category has the most number of prizes awarded? \n",
    "* Which category has the fewest number of prizes awarded? "
   ]
  },
  {
   "cell_type": "code",
   "execution_count": null,
   "metadata": {
    "id": "EjwqH7bxFm10"
   },
   "outputs": [],
   "source": []
  },
  {
   "cell_type": "code",
   "execution_count": null,
   "metadata": {
    "id": "BhweS8X1FmuL"
   },
   "outputs": [],
   "source": []
  },
  {
   "cell_type": "code",
   "execution_count": null,
   "metadata": {
    "id": "MDvvaUHiFoSS"
   },
   "outputs": [],
   "source": []
  },
  {
   "cell_type": "markdown",
   "metadata": {
    "id": "nlISAxfXo7L5"
   },
   "source": [
    "**Challenge**: \n",
    "* When was the first prize in the field of Economics awarded?\n",
    "* Who did the prize go to?"
   ]
  },
  {
   "cell_type": "code",
   "execution_count": null,
   "metadata": {
    "id": "ndzQ8lz6FpSG"
   },
   "outputs": [],
   "source": []
  },
  {
   "cell_type": "code",
   "execution_count": null,
   "metadata": {
    "id": "_7X079YUFpgn"
   },
   "outputs": [],
   "source": []
  },
  {
   "cell_type": "code",
   "execution_count": null,
   "metadata": {
    "id": "QFcoPbA8FpVK"
   },
   "outputs": [],
   "source": []
  },
  {
   "cell_type": "markdown",
   "metadata": {
    "dc": {
     "key": "31"
    },
    "id": "COqMa0fIo7L7",
    "run_control": {
     "frozen": true
    },
    "tags": [
     "context"
    ]
   },
   "source": [
    "# Male and Female Winners by Category\n",
    "\n",
    "**Challenge**: Create a [plotly bar chart](https://plotly.com/python/bar-charts/) that shows the split between men and women by category. \n",
    "* Hover over the bar chart. How many prizes went to women in Literature compared to Physics?\n",
    "\n",
    "<img src=https://i.imgur.com/od8TfOp.png width=650>"
   ]
  },
  {
   "cell_type": "code",
   "execution_count": null,
   "metadata": {
    "id": "5rm03TQmFrlk"
   },
   "outputs": [],
   "source": []
  },
  {
   "cell_type": "code",
   "execution_count": null,
   "metadata": {
    "id": "XTrMUbBmFroT"
   },
   "outputs": [],
   "source": []
  },
  {
   "cell_type": "code",
   "execution_count": null,
   "metadata": {
    "id": "epWwbAi4FreH"
   },
   "outputs": [],
   "source": []
  },
  {
   "cell_type": "markdown",
   "metadata": {
    "id": "CpHaV-ZDo7MD"
   },
   "source": [
    "# Number of Prizes Awarded Over Time\n",
    "\n",
    "**Challenge**: Are more prizes awarded recently than when the prize was first created? Show the trend in awards visually. \n",
    "* Count the number of prizes awarded every year. \n",
    "* Create a 5 year rolling average of the number of prizes (Hint: see previous lessons analysing Google Trends).\n",
    "* Using Matplotlib superimpose the rolling average on a scatter plot.\n",
    "* Show a tick mark on the x-axis for every 5 years from 1900 to 2020. (Hint: you'll need to use NumPy). \n",
    "\n",
    "<img src=https://i.imgur.com/4jqYuWC.png width=650>\n",
    "\n",
    "* Use the [named colours](https://matplotlib.org/3.1.0/gallery/color/named_colors.html) to draw the data points in `dogerblue` while the rolling average is coloured in `crimson`. \n",
    "\n",
    "<img src=https://i.imgur.com/u3RlcJn.png width=350>\n",
    "\n",
    "* Looking at the chart, did the first and second world wars have an impact on the number of prizes being given out? \n",
    "* What could be the reason for the trend in the chart?\n"
   ]
  },
  {
   "cell_type": "code",
   "execution_count": null,
   "metadata": {
    "id": "gD316Xp5Ftsj"
   },
   "outputs": [],
   "source": []
  },
  {
   "cell_type": "code",
   "execution_count": null,
   "metadata": {
    "id": "Jjm3G7VHFtx1"
   },
   "outputs": [],
   "source": []
  },
  {
   "cell_type": "code",
   "execution_count": null,
   "metadata": {
    "id": "NgVzgknLFtvP"
   },
   "outputs": [],
   "source": []
  },
  {
   "cell_type": "code",
   "execution_count": null,
   "metadata": {
    "id": "mWQImXL3FtkO"
   },
   "outputs": [],
   "source": []
  },
  {
   "cell_type": "markdown",
   "metadata": {
    "id": "gZWAAkdJo7MJ"
   },
   "source": [
    "# Are More Prizes Shared Than Before?\n",
    "\n",
    "**Challenge**: Investigate if more prizes are shared than before. \n",
    "\n",
    "* Calculate the average prize share of the winners on a year by year basis.\n",
    "* Calculate the 5 year rolling average of the percentage share.\n",
    "* Copy-paste the cell from the chart you created above.\n",
    "* Modify the code to add a secondary axis to your Matplotlib chart.\n",
    "* Plot the rolling average of the prize share on this chart. \n",
    "* See if you can invert the secondary y-axis to make the relationship even more clear. "
   ]
  },
  {
   "cell_type": "code",
   "execution_count": null,
   "metadata": {
    "id": "If8-ZFoOFwph"
   },
   "outputs": [],
   "source": []
  },
  {
   "cell_type": "code",
   "execution_count": null,
   "metadata": {
    "id": "QRen05_6Fw0y"
   },
   "outputs": [],
   "source": []
  },
  {
   "cell_type": "code",
   "execution_count": null,
   "metadata": {
    "id": "4kLSGNPkFxPd"
   },
   "outputs": [],
   "source": []
  },
  {
   "cell_type": "code",
   "execution_count": null,
   "metadata": {
    "id": "nPBzjo_gFwsb"
   },
   "outputs": [],
   "source": []
  },
  {
   "cell_type": "code",
   "execution_count": null,
   "metadata": {
    "id": "207bX8O7Fwih"
   },
   "outputs": [],
   "source": []
  },
  {
   "cell_type": "markdown",
   "metadata": {
    "dc": {
     "key": "3"
    },
    "id": "L32lWu0Oo7MM",
    "run_control": {
     "frozen": true
    },
    "tags": [
     "context"
    ]
   },
   "source": [
    "# The Countries with the Most Nobel Prizes"
   ]
  },
  {
   "cell_type": "markdown",
   "metadata": {
    "id": "UipIHU54o7MN"
   },
   "source": [
    "**Challenge**: \n",
    "* Create a Pandas DataFrame called `top20_countries` that has the two columns. The `prize` column should contain the total number of prizes won. \n",
    "\n",
    "<img src=https://i.imgur.com/6HM8rfB.png width=350>\n",
    "\n",
    "* Is it best to use `birth_country`, `birth_country_current` or `organization_country`? \n",
    "* What are some potential problems when using `birth_country` or any of the others? Which column is the least problematic? \n",
    "* Then use plotly to create a horizontal bar chart showing the number of prizes won by each country. Here's what you're after:\n",
    "\n",
    "<img src=https://i.imgur.com/agcJdRS.png width=750>\n",
    "\n",
    "* What is the ranking for the top 20 countries in terms of the number of prizes?"
   ]
  },
  {
   "cell_type": "code",
   "execution_count": null,
   "metadata": {
    "id": "cscYI4BvFzjC"
   },
   "outputs": [],
   "source": []
  },
  {
   "cell_type": "code",
   "execution_count": null,
   "metadata": {
    "id": "Zl2rqcVKFz9P"
   },
   "outputs": [],
   "source": []
  },
  {
   "cell_type": "code",
   "execution_count": null,
   "metadata": {
    "id": "ivVVhHa1F20p"
   },
   "outputs": [],
   "source": []
  },
  {
   "cell_type": "code",
   "execution_count": null,
   "metadata": {
    "id": "eAFgX9_2Fz2W"
   },
   "outputs": [],
   "source": []
  },
  {
   "cell_type": "code",
   "execution_count": null,
   "metadata": {
    "id": "botUfiYDFzbL"
   },
   "outputs": [],
   "source": []
  },
  {
   "cell_type": "markdown",
   "metadata": {
    "id": "uNTvKsrzo7MR"
   },
   "source": [
    "# Use a Choropleth Map to Show the Number of Prizes Won by Country\n",
    "\n",
    "* Create this choropleth map using [the plotly documentation](https://plotly.com/python/choropleth-maps/):\n",
    "\n",
    "<img src=https://i.imgur.com/s4lqYZH.png>\n",
    "\n",
    "* Experiment with [plotly's available colours](https://plotly.com/python/builtin-colorscales/). I quite like the sequential colour `matter` on this map. \n",
    "\n",
    "Hint: You'll need to use a 3 letter country code for each country. \n"
   ]
  },
  {
   "cell_type": "code",
   "execution_count": null,
   "metadata": {
    "id": "2YT8MN4sF4Hs"
   },
   "outputs": [],
   "source": []
  },
  {
   "cell_type": "code",
   "execution_count": null,
   "metadata": {
    "id": "4O5jNBUYF4pD"
   },
   "outputs": [],
   "source": []
  },
  {
   "cell_type": "code",
   "execution_count": null,
   "metadata": {
    "id": "18QSc3EzF43z"
   },
   "outputs": [],
   "source": []
  },
  {
   "cell_type": "code",
   "execution_count": null,
   "metadata": {
    "id": "GIiWUNoGF4ga"
   },
   "outputs": [],
   "source": []
  },
  {
   "cell_type": "code",
   "execution_count": null,
   "metadata": {
    "id": "B7CgFAhiF3wv"
   },
   "outputs": [],
   "source": []
  },
  {
   "cell_type": "markdown",
   "metadata": {
    "id": "hNB-HUw0o7MU"
   },
   "source": [
    "# In Which Categories are the Different Countries Winning Prizes? \n",
    "\n",
    "**Challenge**: See if you can divide up the plotly bar chart you created above to show the which categories made up the total number of prizes. Here's what you're aiming for:\n",
    "\n",
    "<img src=https://i.imgur.com/iGaIKCL.png>\n",
    "\n",
    "* In which category are Germany and Japan the weakest compared to the United States?\n",
    "* In which category does Germany have more prizes than the UK?\n",
    "* In which categories does France have more prizes than Germany?\n",
    "* Which category makes up most of Australia's nobel prizes?\n",
    "* Which category makes up half of the prizes in the Netherlands?\n",
    "* Does the United States have more prizes in Economics than all of France? What about in Physics or Medicine?\n",
    "\n",
    "\n",
    "The hard part is preparing the data for this chart! \n",
    "\n",
    "\n",
    "*Hint*: Take a two-step approach. The first step is grouping the data by country and category. Then you can create a DataFrame that looks something like this:\n",
    "\n",
    "<img src=https://i.imgur.com/VKjzKa1.png width=450>\n"
   ]
  },
  {
   "cell_type": "code",
   "execution_count": null,
   "metadata": {
    "id": "_BuNdpmEF7wR"
   },
   "outputs": [],
   "source": []
  },
  {
   "cell_type": "code",
   "execution_count": null,
   "metadata": {
    "id": "l5eYtGIXF8Mn"
   },
   "outputs": [],
   "source": []
  },
  {
   "cell_type": "code",
   "execution_count": null,
   "metadata": {
    "id": "AJO038bkF8YK"
   },
   "outputs": [],
   "source": []
  },
  {
   "cell_type": "code",
   "execution_count": null,
   "metadata": {
    "id": "8H2OTr_OF8Jh"
   },
   "outputs": [],
   "source": []
  },
  {
   "cell_type": "code",
   "execution_count": null,
   "metadata": {
    "id": "ZTbCsyRKF7yx"
   },
   "outputs": [],
   "source": []
  },
  {
   "cell_type": "code",
   "execution_count": null,
   "metadata": {
    "id": "DhE2gyZhF7oQ"
   },
   "outputs": [],
   "source": []
  },
  {
   "cell_type": "markdown",
   "metadata": {
    "dc": {
     "key": "10"
    },
    "id": "Ic-LN14bo7Mb",
    "run_control": {
     "frozen": true
    },
    "tags": [
     "context"
    ]
   },
   "source": [
    "### Number of Prizes Won by Each Country Over Time\n",
    "\n",
    "* When did the United States eclipse every other country in terms of the number of prizes won? \n",
    "* Which country or countries were leading previously?\n",
    "* Calculate the cumulative number of prizes won by each country in every year. Again, use the `birth_country_current` of the winner to calculate this. \n",
    "* Create a [plotly line chart](https://plotly.com/python/line-charts/) where each country is a coloured line. "
   ]
  },
  {
   "cell_type": "code",
   "execution_count": null,
   "metadata": {
    "id": "VA7NVxrwF-1d"
   },
   "outputs": [],
   "source": []
  },
  {
   "cell_type": "code",
   "execution_count": null,
   "metadata": {
    "id": "_IWG-gi0F_O4"
   },
   "outputs": [],
   "source": []
  },
  {
   "cell_type": "code",
   "execution_count": null,
   "metadata": {
    "id": "4wj1M8NpF_dq"
   },
   "outputs": [],
   "source": []
  },
  {
   "cell_type": "code",
   "execution_count": null,
   "metadata": {
    "id": "ncYD0dKCF_IK"
   },
   "outputs": [],
   "source": []
  },
  {
   "cell_type": "code",
   "execution_count": null,
   "metadata": {
    "id": "7tnA9YoOF_1L"
   },
   "outputs": [],
   "source": []
  },
  {
   "cell_type": "code",
   "execution_count": null,
   "metadata": {
    "id": "F6B7oCPTF-sV"
   },
   "outputs": [],
   "source": []
  },
  {
   "cell_type": "markdown",
   "metadata": {
    "id": "J7WUUZpUo7Mj"
   },
   "source": [
    "# What are the Top Research Organisations?\n",
    "\n",
    "**Challenge**: Create a bar chart showing the organisations affiliated with the Nobel laureates. It should looks something like this:\n",
    "\n",
    "<img src=https://i.imgur.com/zZihj2p.png width=600>\n",
    "\n",
    "* Which organisations make up the top 20?\n",
    "* How many Nobel prize winners are affiliated with the University of Chicago and Harvard University?"
   ]
  },
  {
   "cell_type": "code",
   "execution_count": null,
   "metadata": {
    "id": "2jdCXcqcGCxL"
   },
   "outputs": [],
   "source": []
  },
  {
   "cell_type": "code",
   "execution_count": null,
   "metadata": {
    "id": "Db3Zll65GDQd"
   },
   "outputs": [],
   "source": []
  },
  {
   "cell_type": "code",
   "execution_count": null,
   "metadata": {
    "id": "rRDeI_jjGDII"
   },
   "outputs": [],
   "source": []
  },
  {
   "cell_type": "code",
   "execution_count": null,
   "metadata": {
    "id": "zH4Bko6UGEc3"
   },
   "outputs": [],
   "source": []
  },
  {
   "cell_type": "code",
   "execution_count": null,
   "metadata": {
    "id": "C_wDWepRGCpL"
   },
   "outputs": [],
   "source": []
  },
  {
   "cell_type": "markdown",
   "metadata": {
    "id": "d9AXIRyNo7Mp"
   },
   "source": [
    "# Which Cities Make the Most Discoveries? \n",
    "\n",
    "Where do major discoveries take place?  \n",
    "\n",
    "**Challenge**: \n",
    "* Create another plotly bar chart graphing the top 20 organisation cities of the research institutions associated with a Nobel laureate. \n",
    "* Where is the number one hotspot for discoveries in the world?\n",
    "* Which city in Europe has had the most discoveries?"
   ]
  },
  {
   "cell_type": "code",
   "execution_count": null,
   "metadata": {
    "id": "sHYI5FLAGFRh"
   },
   "outputs": [],
   "source": []
  },
  {
   "cell_type": "code",
   "execution_count": null,
   "metadata": {
    "id": "rsI7xC0sGFOb"
   },
   "outputs": [],
   "source": []
  },
  {
   "cell_type": "markdown",
   "metadata": {
    "id": "R6UQrcixo7Mm"
   },
   "source": [
    "# Where are Nobel Laureates Born? Chart the Laureate Birth Cities \n",
    "\n",
    "**Challenge**: \n",
    "* Create a plotly bar chart graphing the top 20 birth cities of Nobel laureates. \n",
    "* Use a named colour scale called `Plasma` for the chart.\n",
    "* What percentage of the United States prizes came from Nobel laureates born in New York? \n",
    "* How many Nobel laureates were born in London, Paris and Vienna? \n",
    "* Out of the top 5 cities, how many are in the United States?\n"
   ]
  },
  {
   "cell_type": "code",
   "execution_count": null,
   "metadata": {
    "id": "JukPm21GGG9i"
   },
   "outputs": [],
   "source": []
  },
  {
   "cell_type": "code",
   "execution_count": null,
   "metadata": {
    "id": "t14pn2kxGG2C"
   },
   "outputs": [],
   "source": []
  },
  {
   "cell_type": "markdown",
   "metadata": {
    "id": "YN6KxT5oo7Mq"
   },
   "source": [
    "# Plotly Sunburst Chart: Combine Country, City, and Organisation\n",
    "\n",
    "**Challenge**: \n",
    "\n",
    "* Create a DataFrame that groups the number of prizes by organisation. \n",
    "* Then use the [plotly documentation to create a sunburst chart](https://plotly.com/python/sunburst-charts/)\n",
    "* Click around in your chart, what do you notice about Germany and France? \n",
    "\n",
    "\n",
    "Here's what you're aiming for:\n",
    "\n",
    "<img src=https://i.imgur.com/cemX4m5.png width=300>\n",
    "\n"
   ]
  },
  {
   "cell_type": "code",
   "execution_count": null,
   "metadata": {
    "id": "jGOx7MxCGI20"
   },
   "outputs": [],
   "source": []
  },
  {
   "cell_type": "code",
   "execution_count": null,
   "metadata": {
    "id": "l1DPxFgRGJBg"
   },
   "outputs": [],
   "source": []
  },
  {
   "cell_type": "code",
   "execution_count": null,
   "metadata": {
    "id": "BJQoljdqGIu3"
   },
   "outputs": [],
   "source": []
  },
  {
   "cell_type": "markdown",
   "metadata": {
    "id": "PW4jvWFWo7Mv"
   },
   "source": [
    "# Patterns in the Laureate Age at the Time of the Award\n",
    "\n",
    "How Old Are the Laureates When the Win the Prize?\n",
    "\n",
    "**Challenge**: Calculate the age of the laureate in the year of the ceremony and add this as a column called `winning_age` to the `df_data` DataFrame. Hint: you can use [this](https://pandas.pydata.org/pandas-docs/stable/reference/api/pandas.Series.dt.html) to help you. \n",
    "\n"
   ]
  },
  {
   "cell_type": "code",
   "execution_count": null,
   "metadata": {
    "id": "2f4JpfUCGLd2"
   },
   "outputs": [],
   "source": []
  },
  {
   "cell_type": "code",
   "execution_count": null,
   "metadata": {
    "id": "jHkFqlGnGLnf"
   },
   "outputs": [],
   "source": []
  },
  {
   "cell_type": "code",
   "execution_count": null,
   "metadata": {
    "id": "-Ooq0xoPGLV_"
   },
   "outputs": [],
   "source": []
  },
  {
   "cell_type": "markdown",
   "metadata": {
    "dc": {
     "key": "66"
    },
    "id": "09344hnCo7My",
    "run_control": {
     "frozen": true
    },
    "tags": [
     "context"
    ]
   },
   "source": [
    "### Who were the oldest and youngest winners?\n",
    "\n",
    "**Challenge**: \n",
    "* What are the names of the youngest and oldest Nobel laureate? \n",
    "* What did they win the prize for?\n",
    "* What is the average age of a winner?\n",
    "* 75% of laureates are younger than what age when they receive the prize?\n",
    "* Use Seaborn to [create histogram](https://seaborn.pydata.org/generated/seaborn.histplot.html) to visualise the distribution of laureate age at the time of winning. Experiment with the number of `bins` to see how the visualisation changes."
   ]
  },
  {
   "cell_type": "code",
   "execution_count": null,
   "metadata": {
    "id": "IzGfeUyNGNcR"
   },
   "outputs": [],
   "source": []
  },
  {
   "cell_type": "code",
   "execution_count": null,
   "metadata": {
    "id": "inN6ggCUGNUy"
   },
   "outputs": [],
   "source": []
  },
  {
   "cell_type": "markdown",
   "metadata": {
    "id": "UQxMUPddo6fo"
   },
   "source": [
    "### Descriptive Statistics for the Laureate Age at Time of Award\n",
    "\n",
    "* Calculate the descriptive statistics for the age at the time of the award. \n",
    "* Then visualise the distribution in the form of a histogram using [Seaborn's .histplot() function](https://seaborn.pydata.org/generated/seaborn.histplot.html).\n",
    "* Experiment with the `bin` size. Try 10, 20, 30, and 50.  "
   ]
  },
  {
   "cell_type": "code",
   "execution_count": null,
   "metadata": {
    "id": "6vlp5S0WGO98"
   },
   "outputs": [],
   "source": []
  },
  {
   "cell_type": "code",
   "execution_count": null,
   "metadata": {
    "id": "P6cAIrB5GO24"
   },
   "outputs": [],
   "source": []
  },
  {
   "cell_type": "markdown",
   "metadata": {
    "id": "gljdi8sxpkg7"
   },
   "source": [
    "### Age at Time of Award throughout History\n",
    "\n",
    "Are Nobel laureates being nominated later in life than before? Have the ages of laureates at the time of the award increased or decreased over time?\n",
    "\n",
    "**Challenge**\n",
    "\n",
    "* Use Seaborn to [create a .regplot](https://seaborn.pydata.org/generated/seaborn.regplot.html?highlight=regplot#seaborn.regplot) with a trendline.\n",
    "* Set the `lowess` parameter to `True` to show a moving average of the linear fit.\n",
    "* According to the best fit line, how old were Nobel laureates in the years 1900-1940 when they were awarded the prize?\n",
    "* According to the best fit line, what age would it predict for a Nobel laureate in 2020?\n"
   ]
  },
  {
   "cell_type": "code",
   "execution_count": null,
   "metadata": {
    "id": "AjUdtyB9GQ9w"
   },
   "outputs": [],
   "source": []
  },
  {
   "cell_type": "code",
   "execution_count": null,
   "metadata": {
    "id": "B_NsO6aaGQzu"
   },
   "outputs": [],
   "source": []
  },
  {
   "cell_type": "markdown",
   "metadata": {
    "dc": {
     "key": "59"
    },
    "id": "CPFMftF9o7M5",
    "run_control": {
     "frozen": true
    },
    "tags": [
     "context"
    ]
   },
   "source": [
    "### Winning Age Across the Nobel Prize Categories\n",
    "\n",
    "How does the age of laureates vary by category? \n",
    "\n",
    "* Use Seaborn's [`.boxplot()`](https://seaborn.pydata.org/generated/seaborn.boxplot.html?highlight=boxplot#seaborn.boxplot) to show how the mean, quartiles, max, and minimum values vary across categories. Which category has the longest \"whiskers\"? \n",
    "* In which prize category are the average winners the oldest?\n",
    "* In which prize category are the average winners the youngest?"
   ]
  },
  {
   "cell_type": "code",
   "execution_count": null,
   "metadata": {
    "id": "mbpG0Kj5GSxg"
   },
   "outputs": [],
   "source": []
  },
  {
   "cell_type": "code",
   "execution_count": null,
   "metadata": {
    "id": "WiGT3CmuGSqp"
   },
   "outputs": [],
   "source": []
  },
  {
   "cell_type": "markdown",
   "metadata": {
    "id": "M9qE0P4-8i5L"
   },
   "source": [
    "**Challenge**\n",
    "* Now use Seaborn's [`.lmplot()`](https://seaborn.pydata.org/generated/seaborn.lmplot.html?highlight=lmplot#seaborn.lmplot) and the `row` parameter to create 6 separate charts for each prize category. Again set `lowess` to `True`.\n",
    "* What are the winning age trends in each category? \n",
    "* Which category has the age trending up and which category has the age trending down? \n",
    "* Is this `.lmplot()` telling a different story from the `.boxplot()`?\n",
    "* Create another chart with Seaborn. This time use `.lmplot()` to put all 6 categories on the same chart using the `hue` parameter. \n"
   ]
  },
  {
   "cell_type": "code",
   "execution_count": null,
   "metadata": {
    "id": "HcdLGWC7GUb7"
   },
   "outputs": [],
   "source": []
  },
  {
   "cell_type": "code",
   "execution_count": null,
   "metadata": {
    "id": "8HwP_swVGUiq"
   },
   "outputs": [],
   "source": []
  },
  {
   "cell_type": "code",
   "execution_count": null,
   "metadata": {
    "id": "Ml9w1jFjGUTi"
   },
   "outputs": [],
   "source": []
  },
  {
   "cell_type": "code",
   "execution_count": null,
   "metadata": {
    "id": "PJD0-Opko7M_"
   },
   "outputs": [],
   "source": []
  },
  {
   "cell_type": "code",
   "execution_count": null,
   "metadata": {
    "id": "9F9f_2HZo7NA"
   },
   "outputs": [],
   "source": []
  }
 ],
 "metadata": {
  "colab": {
   "name": "Nobel Prize Analysis (start).ipynb",
   "provenance": []
  },
  "kernelspec": {
   "display_name": "Python 3 (ipykernel)",
   "language": "python",
   "name": "python3"
  },
  "language_info": {
   "codemirror_mode": {
    "name": "ipython",
    "version": 3
   },
   "file_extension": ".py",
   "mimetype": "text/x-python",
   "name": "python",
   "nbconvert_exporter": "python",
   "pygments_lexer": "ipython3",
   "version": "3.11.2"
  }
 },
 "nbformat": 4,
 "nbformat_minor": 1
}
