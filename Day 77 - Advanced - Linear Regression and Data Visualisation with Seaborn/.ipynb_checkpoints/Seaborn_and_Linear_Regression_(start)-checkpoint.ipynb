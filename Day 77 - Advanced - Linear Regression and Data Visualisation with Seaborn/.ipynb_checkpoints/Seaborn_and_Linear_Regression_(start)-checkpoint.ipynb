{
 "cells": [
  {
   "cell_type": "markdown",
   "metadata": {
    "id": "gltiGJhvrzaL"
   },
   "source": [
    "# Introduction\n",
    "\n",
    "Do higher film budgets lead to more box office revenue? Let's find out if there's a relationship using the movie budgets and financial performance data that I've scraped from [the-numbers.com](https://www.the-numbers.com/movie/budgets) on **May 1st, 2018**. \n",
    "\n",
    "<img src=https://i.imgur.com/kq7hrEh.png>"
   ]
  },
  {
   "cell_type": "markdown",
   "metadata": {
    "id": "zkLrvlKvtdih"
   },
   "source": [
    "# Import Statements"
   ]
  },
  {
   "cell_type": "code",
   "execution_count": 1,
   "metadata": {
    "id": "NpDk_q_Urroj"
   },
   "outputs": [],
   "source": [
    "import pandas as pd\n",
    "import matplotlib.pyplot as plt\n"
   ]
  },
  {
   "cell_type": "markdown",
   "metadata": {
    "id": "x5B-UDvXtnC6"
   },
   "source": [
    "# Notebook Presentation"
   ]
  },
  {
   "cell_type": "code",
   "execution_count": 2,
   "metadata": {
    "id": "nM_otvWztjpT"
   },
   "outputs": [],
   "source": [
    "pd.options.display.float_format = '{:,.2f}'.format\n",
    "\n",
    "from pandas.plotting import register_matplotlib_converters\n",
    "register_matplotlib_converters()"
   ]
  },
  {
   "cell_type": "markdown",
   "metadata": {
    "id": "v-fnwNYJtthe"
   },
   "source": [
    "# Read the Data"
   ]
  },
  {
   "cell_type": "code",
   "execution_count": 3,
   "metadata": {
    "id": "xhwvQQWitrf4"
   },
   "outputs": [],
   "source": [
    "data = pd.read_csv('cost_revenue_dirty.csv')"
   ]
  },
  {
   "cell_type": "markdown",
   "metadata": {
    "id": "tbg8_J5SuHhs"
   },
   "source": [
    "# Explore and Clean the Data"
   ]
  },
  {
   "cell_type": "markdown",
   "metadata": {
    "id": "xAtdcURCuL0Z"
   },
   "source": [
    "**Challenge**: Answer these questions about the dataset:\n",
    "1. How many rows and columns does the dataset contain?\n",
    "2. Are there any NaN values present?\n",
    "3. Are there any duplicate rows?\n",
    "4. What are the data types of the columns?"
   ]
  },
  {
   "cell_type": "code",
   "execution_count": 4,
   "metadata": {
    "id": "PV3KLBSVTMDN"
   },
   "outputs": [
    {
     "data": {
      "text/plain": [
       "(5391, 6)"
      ]
     },
     "execution_count": 4,
     "metadata": {},
     "output_type": "execute_result"
    }
   ],
   "source": [
    "#How many rows and columns does the dataset contain?\n",
    "data.shape"
   ]
  },
  {
   "cell_type": "code",
   "execution_count": 5,
   "metadata": {},
   "outputs": [
    {
     "data": {
      "text/html": [
       "<div>\n",
       "<style scoped>\n",
       "    .dataframe tbody tr th:only-of-type {\n",
       "        vertical-align: middle;\n",
       "    }\n",
       "\n",
       "    .dataframe tbody tr th {\n",
       "        vertical-align: top;\n",
       "    }\n",
       "\n",
       "    .dataframe thead th {\n",
       "        text-align: right;\n",
       "    }\n",
       "</style>\n",
       "<table border=\"1\" class=\"dataframe\">\n",
       "  <thead>\n",
       "    <tr style=\"text-align: right;\">\n",
       "      <th></th>\n",
       "      <th>Rank</th>\n",
       "      <th>Release_Date</th>\n",
       "      <th>Movie_Title</th>\n",
       "      <th>USD_Production_Budget</th>\n",
       "      <th>USD_Worldwide_Gross</th>\n",
       "      <th>USD_Domestic_Gross</th>\n",
       "    </tr>\n",
       "  </thead>\n",
       "  <tbody>\n",
       "    <tr>\n",
       "      <th>0</th>\n",
       "      <td>5293</td>\n",
       "      <td>8/2/1915</td>\n",
       "      <td>The Birth of a Nation</td>\n",
       "      <td>$110,000</td>\n",
       "      <td>$11,000,000</td>\n",
       "      <td>$10,000,000</td>\n",
       "    </tr>\n",
       "    <tr>\n",
       "      <th>1</th>\n",
       "      <td>5140</td>\n",
       "      <td>5/9/1916</td>\n",
       "      <td>Intolerance</td>\n",
       "      <td>$385,907</td>\n",
       "      <td>$0</td>\n",
       "      <td>$0</td>\n",
       "    </tr>\n",
       "    <tr>\n",
       "      <th>2</th>\n",
       "      <td>5230</td>\n",
       "      <td>12/24/1916</td>\n",
       "      <td>20,000 Leagues Under the Sea</td>\n",
       "      <td>$200,000</td>\n",
       "      <td>$8,000,000</td>\n",
       "      <td>$8,000,000</td>\n",
       "    </tr>\n",
       "    <tr>\n",
       "      <th>3</th>\n",
       "      <td>5299</td>\n",
       "      <td>9/17/1920</td>\n",
       "      <td>Over the Hill to the Poorhouse</td>\n",
       "      <td>$100,000</td>\n",
       "      <td>$3,000,000</td>\n",
       "      <td>$3,000,000</td>\n",
       "    </tr>\n",
       "    <tr>\n",
       "      <th>4</th>\n",
       "      <td>5222</td>\n",
       "      <td>1/1/1925</td>\n",
       "      <td>The Big Parade</td>\n",
       "      <td>$245,000</td>\n",
       "      <td>$22,000,000</td>\n",
       "      <td>$11,000,000</td>\n",
       "    </tr>\n",
       "  </tbody>\n",
       "</table>\n",
       "</div>"
      ],
      "text/plain": [
       "   Rank Release_Date                     Movie_Title USD_Production_Budget   \n",
       "0  5293     8/2/1915           The Birth of a Nation              $110,000  \\\n",
       "1  5140     5/9/1916                     Intolerance              $385,907   \n",
       "2  5230   12/24/1916    20,000 Leagues Under the Sea              $200,000   \n",
       "3  5299    9/17/1920  Over the Hill to the Poorhouse              $100,000   \n",
       "4  5222     1/1/1925                  The Big Parade              $245,000   \n",
       "\n",
       "  USD_Worldwide_Gross USD_Domestic_Gross  \n",
       "0         $11,000,000        $10,000,000  \n",
       "1                  $0                 $0  \n",
       "2          $8,000,000         $8,000,000  \n",
       "3          $3,000,000         $3,000,000  \n",
       "4         $22,000,000        $11,000,000  "
      ]
     },
     "execution_count": 5,
     "metadata": {},
     "output_type": "execute_result"
    }
   ],
   "source": [
    "data.head()"
   ]
  },
  {
   "cell_type": "code",
   "execution_count": 6,
   "metadata": {},
   "outputs": [
    {
     "data": {
      "text/html": [
       "<div>\n",
       "<style scoped>\n",
       "    .dataframe tbody tr th:only-of-type {\n",
       "        vertical-align: middle;\n",
       "    }\n",
       "\n",
       "    .dataframe tbody tr th {\n",
       "        vertical-align: top;\n",
       "    }\n",
       "\n",
       "    .dataframe thead th {\n",
       "        text-align: right;\n",
       "    }\n",
       "</style>\n",
       "<table border=\"1\" class=\"dataframe\">\n",
       "  <thead>\n",
       "    <tr style=\"text-align: right;\">\n",
       "      <th></th>\n",
       "      <th>Rank</th>\n",
       "      <th>Release_Date</th>\n",
       "      <th>Movie_Title</th>\n",
       "      <th>USD_Production_Budget</th>\n",
       "      <th>USD_Worldwide_Gross</th>\n",
       "      <th>USD_Domestic_Gross</th>\n",
       "    </tr>\n",
       "  </thead>\n",
       "  <tbody>\n",
       "    <tr>\n",
       "      <th>5386</th>\n",
       "      <td>2950</td>\n",
       "      <td>10/8/2018</td>\n",
       "      <td>Meg</td>\n",
       "      <td>$15,000,000</td>\n",
       "      <td>$0</td>\n",
       "      <td>$0</td>\n",
       "    </tr>\n",
       "    <tr>\n",
       "      <th>5387</th>\n",
       "      <td>126</td>\n",
       "      <td>12/18/2018</td>\n",
       "      <td>Aquaman</td>\n",
       "      <td>$160,000,000</td>\n",
       "      <td>$0</td>\n",
       "      <td>$0</td>\n",
       "    </tr>\n",
       "    <tr>\n",
       "      <th>5388</th>\n",
       "      <td>96</td>\n",
       "      <td>12/31/2020</td>\n",
       "      <td>Singularity</td>\n",
       "      <td>$175,000,000</td>\n",
       "      <td>$0</td>\n",
       "      <td>$0</td>\n",
       "    </tr>\n",
       "    <tr>\n",
       "      <th>5389</th>\n",
       "      <td>1119</td>\n",
       "      <td>12/31/2020</td>\n",
       "      <td>Hannibal the Conqueror</td>\n",
       "      <td>$50,000,000</td>\n",
       "      <td>$0</td>\n",
       "      <td>$0</td>\n",
       "    </tr>\n",
       "    <tr>\n",
       "      <th>5390</th>\n",
       "      <td>2517</td>\n",
       "      <td>12/31/2020</td>\n",
       "      <td>Story of Bonnie and Clyde, The</td>\n",
       "      <td>$20,000,000</td>\n",
       "      <td>$0</td>\n",
       "      <td>$0</td>\n",
       "    </tr>\n",
       "  </tbody>\n",
       "</table>\n",
       "</div>"
      ],
      "text/plain": [
       "      Rank Release_Date                     Movie_Title USD_Production_Budget   \n",
       "5386  2950    10/8/2018                             Meg           $15,000,000  \\\n",
       "5387   126   12/18/2018                         Aquaman          $160,000,000   \n",
       "5388    96   12/31/2020                     Singularity          $175,000,000   \n",
       "5389  1119   12/31/2020          Hannibal the Conqueror           $50,000,000   \n",
       "5390  2517   12/31/2020  Story of Bonnie and Clyde, The           $20,000,000   \n",
       "\n",
       "     USD_Worldwide_Gross USD_Domestic_Gross  \n",
       "5386                  $0                 $0  \n",
       "5387                  $0                 $0  \n",
       "5388                  $0                 $0  \n",
       "5389                  $0                 $0  \n",
       "5390                  $0                 $0  "
      ]
     },
     "execution_count": 6,
     "metadata": {},
     "output_type": "execute_result"
    }
   ],
   "source": [
    "data.tail()"
   ]
  },
  {
   "cell_type": "code",
   "execution_count": 11,
   "metadata": {},
   "outputs": [
    {
     "data": {
      "text/html": [
       "<div>\n",
       "<style scoped>\n",
       "    .dataframe tbody tr th:only-of-type {\n",
       "        vertical-align: middle;\n",
       "    }\n",
       "\n",
       "    .dataframe tbody tr th {\n",
       "        vertical-align: top;\n",
       "    }\n",
       "\n",
       "    .dataframe thead th {\n",
       "        text-align: right;\n",
       "    }\n",
       "</style>\n",
       "<table border=\"1\" class=\"dataframe\">\n",
       "  <thead>\n",
       "    <tr style=\"text-align: right;\">\n",
       "      <th></th>\n",
       "      <th>Rank</th>\n",
       "      <th>Release_Date</th>\n",
       "      <th>Movie_Title</th>\n",
       "      <th>USD_Production_Budget</th>\n",
       "      <th>USD_Worldwide_Gross</th>\n",
       "      <th>USD_Domestic_Gross</th>\n",
       "    </tr>\n",
       "  </thead>\n",
       "  <tbody>\n",
       "    <tr>\n",
       "      <th>3885</th>\n",
       "      <td>4671</td>\n",
       "      <td>4/22/2011</td>\n",
       "      <td>POM Wonderful Presents: The Greatest Movie Eve...</td>\n",
       "      <td>$1,800,000</td>\n",
       "      <td>$783,733</td>\n",
       "      <td>$638,476</td>\n",
       "    </tr>\n",
       "    <tr>\n",
       "      <th>4750</th>\n",
       "      <td>5253</td>\n",
       "      <td>12/9/2014</td>\n",
       "      <td>Archaeology of a Woman</td>\n",
       "      <td>$200,000</td>\n",
       "      <td>$0</td>\n",
       "      <td>$0</td>\n",
       "    </tr>\n",
       "  </tbody>\n",
       "</table>\n",
       "</div>"
      ],
      "text/plain": [
       "      Rank Release_Date                                        Movie_Title   \n",
       "3885  4671    4/22/2011  POM Wonderful Presents: The Greatest Movie Eve...  \\\n",
       "4750  5253    12/9/2014                             Archaeology of a Woman   \n",
       "\n",
       "     USD_Production_Budget USD_Worldwide_Gross USD_Domestic_Gross  \n",
       "3885            $1,800,000            $783,733           $638,476  \n",
       "4750              $200,000                  $0                 $0  "
      ]
     },
     "execution_count": 11,
     "metadata": {},
     "output_type": "execute_result"
    }
   ],
   "source": [
    "data.sample(2)"
   ]
  },
  {
   "cell_type": "code",
   "execution_count": 12,
   "metadata": {},
   "outputs": [
    {
     "name": "stdout",
     "output_type": "stream",
     "text": [
      "Are there any NaN values present? False\n"
     ]
    }
   ],
   "source": [
    "#Are there any NaN values present?\n",
    "print(f\"Are there any NaN values present? {data.isna().values.any()}\")"
   ]
  },
  {
   "cell_type": "code",
   "execution_count": 13,
   "metadata": {},
   "outputs": [
    {
     "name": "stdout",
     "output_type": "stream",
     "text": [
      "Are there any duplicate rows? False\n"
     ]
    }
   ],
   "source": [
    "#Are there any duplicate rows?\n",
    "print(f\"Are there any duplicate rows? {data.duplicated().values.any()}\")"
   ]
  },
  {
   "cell_type": "code",
   "execution_count": 14,
   "metadata": {},
   "outputs": [
    {
     "name": "stdout",
     "output_type": "stream",
     "text": [
      "Number of duplicates: 0\n"
     ]
    }
   ],
   "source": [
    "duplicated_rows=data[data.duplicated()]\n",
    "print(f\"Number of duplicates: {len(duplicated_rows)}\")"
   ]
  },
  {
   "cell_type": "code",
   "execution_count": 4,
   "metadata": {},
   "outputs": [
    {
     "name": "stdout",
     "output_type": "stream",
     "text": [
      "<class 'pandas.core.frame.DataFrame'>\n",
      "RangeIndex: 5391 entries, 0 to 5390\n",
      "Data columns (total 6 columns):\n",
      " #   Column                 Non-Null Count  Dtype \n",
      "---  ------                 --------------  ----- \n",
      " 0   Rank                   5391 non-null   int64 \n",
      " 1   Release_Date           5391 non-null   object\n",
      " 2   Movie_Title            5391 non-null   object\n",
      " 3   USD_Production_Budget  5391 non-null   object\n",
      " 4   USD_Worldwide_Gross    5391 non-null   object\n",
      " 5   USD_Domestic_Gross     5391 non-null   object\n",
      "dtypes: int64(1), object(5)\n",
      "memory usage: 252.8+ KB\n"
     ]
    }
   ],
   "source": [
    "# What are the data types of the columns?\n",
    "data.info()"
   ]
  },
  {
   "cell_type": "markdown",
   "metadata": {
    "id": "v8spadDNvpVG"
   },
   "source": [
    "### Data Type Conversions"
   ]
  },
  {
   "cell_type": "markdown",
   "metadata": {
    "id": "9F8KFST4ulrd"
   },
   "source": [
    "**Challenge**: Convert the `USD_Production_Budget`, `USD_Worldwide_Gross`, and `USD_Domestic_Gross` columns to a numeric format by removing `$` signs and `,`. \n",
    "<br>\n",
    "<br>\n",
    "Note that *domestic* in this context refers to the United States."
   ]
  },
  {
   "cell_type": "code",
   "execution_count": 5,
   "metadata": {
    "id": "BmdCbLf-TPXk"
   },
   "outputs": [
    {
     "data": {
      "text/html": [
       "<div>\n",
       "<style scoped>\n",
       "    .dataframe tbody tr th:only-of-type {\n",
       "        vertical-align: middle;\n",
       "    }\n",
       "\n",
       "    .dataframe tbody tr th {\n",
       "        vertical-align: top;\n",
       "    }\n",
       "\n",
       "    .dataframe thead th {\n",
       "        text-align: right;\n",
       "    }\n",
       "</style>\n",
       "<table border=\"1\" class=\"dataframe\">\n",
       "  <thead>\n",
       "    <tr style=\"text-align: right;\">\n",
       "      <th></th>\n",
       "      <th>Rank</th>\n",
       "      <th>Release_Date</th>\n",
       "      <th>Movie_Title</th>\n",
       "      <th>USD_Production_Budget</th>\n",
       "      <th>USD_Worldwide_Gross</th>\n",
       "      <th>USD_Domestic_Gross</th>\n",
       "    </tr>\n",
       "  </thead>\n",
       "  <tbody>\n",
       "    <tr>\n",
       "      <th>0</th>\n",
       "      <td>5293</td>\n",
       "      <td>8/2/1915</td>\n",
       "      <td>The Birth of a Nation</td>\n",
       "      <td>110000</td>\n",
       "      <td>11000000</td>\n",
       "      <td>10000000</td>\n",
       "    </tr>\n",
       "    <tr>\n",
       "      <th>1</th>\n",
       "      <td>5140</td>\n",
       "      <td>5/9/1916</td>\n",
       "      <td>Intolerance</td>\n",
       "      <td>385907</td>\n",
       "      <td>0</td>\n",
       "      <td>0</td>\n",
       "    </tr>\n",
       "    <tr>\n",
       "      <th>2</th>\n",
       "      <td>5230</td>\n",
       "      <td>12/24/1916</td>\n",
       "      <td>20,000 Leagues Under the Sea</td>\n",
       "      <td>200000</td>\n",
       "      <td>8000000</td>\n",
       "      <td>8000000</td>\n",
       "    </tr>\n",
       "    <tr>\n",
       "      <th>3</th>\n",
       "      <td>5299</td>\n",
       "      <td>9/17/1920</td>\n",
       "      <td>Over the Hill to the Poorhouse</td>\n",
       "      <td>100000</td>\n",
       "      <td>3000000</td>\n",
       "      <td>3000000</td>\n",
       "    </tr>\n",
       "    <tr>\n",
       "      <th>4</th>\n",
       "      <td>5222</td>\n",
       "      <td>1/1/1925</td>\n",
       "      <td>The Big Parade</td>\n",
       "      <td>245000</td>\n",
       "      <td>22000000</td>\n",
       "      <td>11000000</td>\n",
       "    </tr>\n",
       "  </tbody>\n",
       "</table>\n",
       "</div>"
      ],
      "text/plain": [
       "   Rank Release_Date                     Movie_Title  USD_Production_Budget   \n",
       "0  5293     8/2/1915           The Birth of a Nation                 110000  \\\n",
       "1  5140     5/9/1916                     Intolerance                 385907   \n",
       "2  5230   12/24/1916    20,000 Leagues Under the Sea                 200000   \n",
       "3  5299    9/17/1920  Over the Hill to the Poorhouse                 100000   \n",
       "4  5222     1/1/1925                  The Big Parade                 245000   \n",
       "\n",
       "   USD_Worldwide_Gross  USD_Domestic_Gross  \n",
       "0             11000000            10000000  \n",
       "1                    0                   0  \n",
       "2              8000000             8000000  \n",
       "3              3000000             3000000  \n",
       "4             22000000            11000000  "
      ]
     },
     "execution_count": 5,
     "metadata": {},
     "output_type": "execute_result"
    }
   ],
   "source": [
    "chars_to_replace=[\"$\",\",\"]\n",
    "columns_to_clean=[\"USD_Production_Budget\",\"USD_Worldwide_Gross\",\"USD_Domestic_Gross\"]\n",
    "\n",
    "for column in columns_to_clean:\n",
    "    for char in chars_to_replace:\n",
    "        data[column]=data[column].astype(str).str.replace(char,\"\")\n",
    "    \n",
    "    data[column]=pd.to_numeric(data[column])\n",
    "\n",
    "\n",
    "data.head()"
   ]
  },
  {
   "cell_type": "markdown",
   "metadata": {
    "id": "cA01iJHkvWhl"
   },
   "source": [
    "**Challenge**: Convert the `Release_Date` column to a Pandas Datetime type. "
   ]
  },
  {
   "cell_type": "code",
   "execution_count": 6,
   "metadata": {},
   "outputs": [
    {
     "data": {
      "text/html": [
       "<div>\n",
       "<style scoped>\n",
       "    .dataframe tbody tr th:only-of-type {\n",
       "        vertical-align: middle;\n",
       "    }\n",
       "\n",
       "    .dataframe tbody tr th {\n",
       "        vertical-align: top;\n",
       "    }\n",
       "\n",
       "    .dataframe thead th {\n",
       "        text-align: right;\n",
       "    }\n",
       "</style>\n",
       "<table border=\"1\" class=\"dataframe\">\n",
       "  <thead>\n",
       "    <tr style=\"text-align: right;\">\n",
       "      <th></th>\n",
       "      <th>Rank</th>\n",
       "      <th>Release_Date</th>\n",
       "      <th>Movie_Title</th>\n",
       "      <th>USD_Production_Budget</th>\n",
       "      <th>USD_Worldwide_Gross</th>\n",
       "      <th>USD_Domestic_Gross</th>\n",
       "    </tr>\n",
       "  </thead>\n",
       "  <tbody>\n",
       "    <tr>\n",
       "      <th>0</th>\n",
       "      <td>5293</td>\n",
       "      <td>1915-08-02</td>\n",
       "      <td>The Birth of a Nation</td>\n",
       "      <td>110000</td>\n",
       "      <td>11000000</td>\n",
       "      <td>10000000</td>\n",
       "    </tr>\n",
       "    <tr>\n",
       "      <th>1</th>\n",
       "      <td>5140</td>\n",
       "      <td>1916-05-09</td>\n",
       "      <td>Intolerance</td>\n",
       "      <td>385907</td>\n",
       "      <td>0</td>\n",
       "      <td>0</td>\n",
       "    </tr>\n",
       "    <tr>\n",
       "      <th>2</th>\n",
       "      <td>5230</td>\n",
       "      <td>1916-12-24</td>\n",
       "      <td>20,000 Leagues Under the Sea</td>\n",
       "      <td>200000</td>\n",
       "      <td>8000000</td>\n",
       "      <td>8000000</td>\n",
       "    </tr>\n",
       "    <tr>\n",
       "      <th>3</th>\n",
       "      <td>5299</td>\n",
       "      <td>1920-09-17</td>\n",
       "      <td>Over the Hill to the Poorhouse</td>\n",
       "      <td>100000</td>\n",
       "      <td>3000000</td>\n",
       "      <td>3000000</td>\n",
       "    </tr>\n",
       "    <tr>\n",
       "      <th>4</th>\n",
       "      <td>5222</td>\n",
       "      <td>1925-01-01</td>\n",
       "      <td>The Big Parade</td>\n",
       "      <td>245000</td>\n",
       "      <td>22000000</td>\n",
       "      <td>11000000</td>\n",
       "    </tr>\n",
       "  </tbody>\n",
       "</table>\n",
       "</div>"
      ],
      "text/plain": [
       "   Rank Release_Date                     Movie_Title  USD_Production_Budget   \n",
       "0  5293   1915-08-02           The Birth of a Nation                 110000  \\\n",
       "1  5140   1916-05-09                     Intolerance                 385907   \n",
       "2  5230   1916-12-24    20,000 Leagues Under the Sea                 200000   \n",
       "3  5299   1920-09-17  Over the Hill to the Poorhouse                 100000   \n",
       "4  5222   1925-01-01                  The Big Parade                 245000   \n",
       "\n",
       "   USD_Worldwide_Gross  USD_Domestic_Gross  \n",
       "0             11000000            10000000  \n",
       "1                    0                   0  \n",
       "2              8000000             8000000  \n",
       "3              3000000             3000000  \n",
       "4             22000000            11000000  "
      ]
     },
     "execution_count": 6,
     "metadata": {},
     "output_type": "execute_result"
    }
   ],
   "source": [
    "data.Release_Date=pd.to_datetime(data.Release_Date)\n",
    "data.head()"
   ]
  },
  {
   "cell_type": "code",
   "execution_count": 18,
   "metadata": {},
   "outputs": [
    {
     "name": "stdout",
     "output_type": "stream",
     "text": [
      "<class 'pandas.core.frame.DataFrame'>\n",
      "RangeIndex: 5391 entries, 0 to 5390\n",
      "Data columns (total 6 columns):\n",
      " #   Column                 Non-Null Count  Dtype         \n",
      "---  ------                 --------------  -----         \n",
      " 0   Rank                   5391 non-null   int64         \n",
      " 1   Release_Date           5391 non-null   datetime64[ns]\n",
      " 2   Movie_Title            5391 non-null   object        \n",
      " 3   USD_Production_Budget  5391 non-null   int64         \n",
      " 4   USD_Worldwide_Gross    5391 non-null   int64         \n",
      " 5   USD_Domestic_Gross     5391 non-null   int64         \n",
      "dtypes: datetime64[ns](1), int64(4), object(1)\n",
      "memory usage: 252.8+ KB\n"
     ]
    }
   ],
   "source": [
    "data.info()"
   ]
  },
  {
   "cell_type": "markdown",
   "metadata": {
    "id": "NkwmJO3tvt5i"
   },
   "source": [
    "### Descriptive Statistics"
   ]
  },
  {
   "cell_type": "markdown",
   "metadata": {
    "id": "bnb54thrvx5r"
   },
   "source": [
    "**Challenge**: \n",
    "\n",
    "1. What is the average production budget of the films in the data set?\n",
    "2. What is the average worldwide gross revenue of films?\n",
    "3. What were the minimums for worldwide and domestic revenue?\n",
    "4. Are the bottom 25% of films actually profitable or do they lose money?\n",
    "5. What are the highest production budget and highest worldwide gross revenue of any film?\n",
    "6. How much revenue did the lowest and highest budget films make?"
   ]
  },
  {
   "cell_type": "code",
   "execution_count": 7,
   "metadata": {
    "id": "8G5_FATFTTtb"
   },
   "outputs": [
    {
     "data": {
      "text/html": [
       "<div>\n",
       "<style scoped>\n",
       "    .dataframe tbody tr th:only-of-type {\n",
       "        vertical-align: middle;\n",
       "    }\n",
       "\n",
       "    .dataframe tbody tr th {\n",
       "        vertical-align: top;\n",
       "    }\n",
       "\n",
       "    .dataframe thead th {\n",
       "        text-align: right;\n",
       "    }\n",
       "</style>\n",
       "<table border=\"1\" class=\"dataframe\">\n",
       "  <thead>\n",
       "    <tr style=\"text-align: right;\">\n",
       "      <th></th>\n",
       "      <th>Rank</th>\n",
       "      <th>Release_Date</th>\n",
       "      <th>USD_Production_Budget</th>\n",
       "      <th>USD_Worldwide_Gross</th>\n",
       "      <th>USD_Domestic_Gross</th>\n",
       "    </tr>\n",
       "  </thead>\n",
       "  <tbody>\n",
       "    <tr>\n",
       "      <th>count</th>\n",
       "      <td>5,391.00</td>\n",
       "      <td>5391</td>\n",
       "      <td>5,391.00</td>\n",
       "      <td>5,391.00</td>\n",
       "      <td>5,391.00</td>\n",
       "    </tr>\n",
       "    <tr>\n",
       "      <th>mean</th>\n",
       "      <td>2,696.00</td>\n",
       "      <td>2003-09-19 15:02:02.203672704</td>\n",
       "      <td>31,113,737.58</td>\n",
       "      <td>88,855,421.96</td>\n",
       "      <td>41,235,519.44</td>\n",
       "    </tr>\n",
       "    <tr>\n",
       "      <th>min</th>\n",
       "      <td>1.00</td>\n",
       "      <td>1915-08-02 00:00:00</td>\n",
       "      <td>1,100.00</td>\n",
       "      <td>0.00</td>\n",
       "      <td>0.00</td>\n",
       "    </tr>\n",
       "    <tr>\n",
       "      <th>25%</th>\n",
       "      <td>1,348.50</td>\n",
       "      <td>1999-12-02 12:00:00</td>\n",
       "      <td>5,000,000.00</td>\n",
       "      <td>3,865,206.00</td>\n",
       "      <td>1,330,901.50</td>\n",
       "    </tr>\n",
       "    <tr>\n",
       "      <th>50%</th>\n",
       "      <td>2,696.00</td>\n",
       "      <td>2006-06-23 00:00:00</td>\n",
       "      <td>17,000,000.00</td>\n",
       "      <td>27,450,453.00</td>\n",
       "      <td>17,192,205.00</td>\n",
       "    </tr>\n",
       "    <tr>\n",
       "      <th>75%</th>\n",
       "      <td>4,043.50</td>\n",
       "      <td>2011-11-23 00:00:00</td>\n",
       "      <td>40,000,000.00</td>\n",
       "      <td>96,454,455.00</td>\n",
       "      <td>52,343,687.00</td>\n",
       "    </tr>\n",
       "    <tr>\n",
       "      <th>max</th>\n",
       "      <td>5,391.00</td>\n",
       "      <td>2020-12-31 00:00:00</td>\n",
       "      <td>425,000,000.00</td>\n",
       "      <td>2,783,918,982.00</td>\n",
       "      <td>936,662,225.00</td>\n",
       "    </tr>\n",
       "    <tr>\n",
       "      <th>std</th>\n",
       "      <td>1,556.39</td>\n",
       "      <td>NaN</td>\n",
       "      <td>40,523,796.88</td>\n",
       "      <td>168,457,757.00</td>\n",
       "      <td>66,029,346.27</td>\n",
       "    </tr>\n",
       "  </tbody>\n",
       "</table>\n",
       "</div>"
      ],
      "text/plain": [
       "          Rank                   Release_Date  USD_Production_Budget   \n",
       "count 5,391.00                           5391               5,391.00  \\\n",
       "mean  2,696.00  2003-09-19 15:02:02.203672704          31,113,737.58   \n",
       "min       1.00            1915-08-02 00:00:00               1,100.00   \n",
       "25%   1,348.50            1999-12-02 12:00:00           5,000,000.00   \n",
       "50%   2,696.00            2006-06-23 00:00:00          17,000,000.00   \n",
       "75%   4,043.50            2011-11-23 00:00:00          40,000,000.00   \n",
       "max   5,391.00            2020-12-31 00:00:00         425,000,000.00   \n",
       "std   1,556.39                            NaN          40,523,796.88   \n",
       "\n",
       "       USD_Worldwide_Gross  USD_Domestic_Gross  \n",
       "count             5,391.00            5,391.00  \n",
       "mean         88,855,421.96       41,235,519.44  \n",
       "min                   0.00                0.00  \n",
       "25%           3,865,206.00        1,330,901.50  \n",
       "50%          27,450,453.00       17,192,205.00  \n",
       "75%          96,454,455.00       52,343,687.00  \n",
       "max       2,783,918,982.00      936,662,225.00  \n",
       "std         168,457,757.00       66,029,346.27  "
      ]
     },
     "execution_count": 7,
     "metadata": {},
     "output_type": "execute_result"
    }
   ],
   "source": [
    "data.describe()"
   ]
  },
  {
   "cell_type": "code",
   "execution_count": 22,
   "metadata": {},
   "outputs": [
    {
     "data": {
      "text/html": [
       "<div>\n",
       "<style scoped>\n",
       "    .dataframe tbody tr th:only-of-type {\n",
       "        vertical-align: middle;\n",
       "    }\n",
       "\n",
       "    .dataframe tbody tr th {\n",
       "        vertical-align: top;\n",
       "    }\n",
       "\n",
       "    .dataframe thead th {\n",
       "        text-align: right;\n",
       "    }\n",
       "</style>\n",
       "<table border=\"1\" class=\"dataframe\">\n",
       "  <thead>\n",
       "    <tr style=\"text-align: right;\">\n",
       "      <th></th>\n",
       "      <th>Rank</th>\n",
       "      <th>Release_Date</th>\n",
       "      <th>Movie_Title</th>\n",
       "      <th>USD_Production_Budget</th>\n",
       "      <th>USD_Worldwide_Gross</th>\n",
       "      <th>USD_Domestic_Gross</th>\n",
       "    </tr>\n",
       "  </thead>\n",
       "  <tbody>\n",
       "    <tr>\n",
       "      <th>2427</th>\n",
       "      <td>5391</td>\n",
       "      <td>2005-05-08</td>\n",
       "      <td>My Date With Drew</td>\n",
       "      <td>1100</td>\n",
       "      <td>181041</td>\n",
       "      <td>181041</td>\n",
       "    </tr>\n",
       "  </tbody>\n",
       "</table>\n",
       "</div>"
      ],
      "text/plain": [
       "      Rank Release_Date        Movie_Title  USD_Production_Budget   \n",
       "2427  5391   2005-05-08  My Date With Drew                   1100  \\\n",
       "\n",
       "      USD_Worldwide_Gross  USD_Domestic_Gross  \n",
       "2427               181041              181041  "
      ]
     },
     "execution_count": 22,
     "metadata": {},
     "output_type": "execute_result"
    }
   ],
   "source": [
    "data[data.USD_Production_Budget==1100]"
   ]
  },
  {
   "cell_type": "code",
   "execution_count": 23,
   "metadata": {},
   "outputs": [
    {
     "data": {
      "text/html": [
       "<div>\n",
       "<style scoped>\n",
       "    .dataframe tbody tr th:only-of-type {\n",
       "        vertical-align: middle;\n",
       "    }\n",
       "\n",
       "    .dataframe tbody tr th {\n",
       "        vertical-align: top;\n",
       "    }\n",
       "\n",
       "    .dataframe thead th {\n",
       "        text-align: right;\n",
       "    }\n",
       "</style>\n",
       "<table border=\"1\" class=\"dataframe\">\n",
       "  <thead>\n",
       "    <tr style=\"text-align: right;\">\n",
       "      <th></th>\n",
       "      <th>Rank</th>\n",
       "      <th>Release_Date</th>\n",
       "      <th>Movie_Title</th>\n",
       "      <th>USD_Production_Budget</th>\n",
       "      <th>USD_Worldwide_Gross</th>\n",
       "      <th>USD_Domestic_Gross</th>\n",
       "    </tr>\n",
       "  </thead>\n",
       "  <tbody>\n",
       "    <tr>\n",
       "      <th>3529</th>\n",
       "      <td>1</td>\n",
       "      <td>2009-12-18</td>\n",
       "      <td>Avatar</td>\n",
       "      <td>425000000</td>\n",
       "      <td>2783918982</td>\n",
       "      <td>760507625</td>\n",
       "    </tr>\n",
       "  </tbody>\n",
       "</table>\n",
       "</div>"
      ],
      "text/plain": [
       "      Rank Release_Date Movie_Title  USD_Production_Budget   \n",
       "3529     1   2009-12-18      Avatar              425000000  \\\n",
       "\n",
       "      USD_Worldwide_Gross  USD_Domestic_Gross  \n",
       "3529           2783918982           760507625  "
      ]
     },
     "execution_count": 23,
     "metadata": {},
     "output_type": "execute_result"
    }
   ],
   "source": [
    "data[data.USD_Production_Budget==425000000.00]"
   ]
  },
  {
   "cell_type": "markdown",
   "metadata": {
    "id": "Cj-ug32JyEhp"
   },
   "source": [
    "# Investigating the Zero Revenue Films"
   ]
  },
  {
   "cell_type": "markdown",
   "metadata": {
    "id": "U9hm-pb4xTjY"
   },
   "source": [
    "**Challenge** How many films grossed $0 domestically (i.e., in the United States)? What were the highest budget films that grossed nothing?"
   ]
  },
  {
   "cell_type": "code",
   "execution_count": 12,
   "metadata": {
    "id": "MXuRYdy0TWkt"
   },
   "outputs": [
    {
     "name": "stdout",
     "output_type": "stream",
     "text": [
      "Number of films that grossed $0 domestically 512\n"
     ]
    },
    {
     "data": {
      "text/html": [
       "<div>\n",
       "<style scoped>\n",
       "    .dataframe tbody tr th:only-of-type {\n",
       "        vertical-align: middle;\n",
       "    }\n",
       "\n",
       "    .dataframe tbody tr th {\n",
       "        vertical-align: top;\n",
       "    }\n",
       "\n",
       "    .dataframe thead th {\n",
       "        text-align: right;\n",
       "    }\n",
       "</style>\n",
       "<table border=\"1\" class=\"dataframe\">\n",
       "  <thead>\n",
       "    <tr style=\"text-align: right;\">\n",
       "      <th></th>\n",
       "      <th>Rank</th>\n",
       "      <th>Release_Date</th>\n",
       "      <th>Movie_Title</th>\n",
       "      <th>USD_Production_Budget</th>\n",
       "      <th>USD_Worldwide_Gross</th>\n",
       "      <th>USD_Domestic_Gross</th>\n",
       "    </tr>\n",
       "  </thead>\n",
       "  <tbody>\n",
       "    <tr>\n",
       "      <th>5388</th>\n",
       "      <td>96</td>\n",
       "      <td>2020-12-31</td>\n",
       "      <td>Singularity</td>\n",
       "      <td>175000000</td>\n",
       "      <td>0</td>\n",
       "      <td>0</td>\n",
       "    </tr>\n",
       "    <tr>\n",
       "      <th>5387</th>\n",
       "      <td>126</td>\n",
       "      <td>2018-12-18</td>\n",
       "      <td>Aquaman</td>\n",
       "      <td>160000000</td>\n",
       "      <td>0</td>\n",
       "      <td>0</td>\n",
       "    </tr>\n",
       "    <tr>\n",
       "      <th>5384</th>\n",
       "      <td>321</td>\n",
       "      <td>2018-09-03</td>\n",
       "      <td>A Wrinkle in Time</td>\n",
       "      <td>103000000</td>\n",
       "      <td>0</td>\n",
       "      <td>0</td>\n",
       "    </tr>\n",
       "    <tr>\n",
       "      <th>5385</th>\n",
       "      <td>366</td>\n",
       "      <td>2018-10-08</td>\n",
       "      <td>Amusement Park</td>\n",
       "      <td>100000000</td>\n",
       "      <td>0</td>\n",
       "      <td>0</td>\n",
       "    </tr>\n",
       "    <tr>\n",
       "      <th>5090</th>\n",
       "      <td>556</td>\n",
       "      <td>2015-12-31</td>\n",
       "      <td>Don Gato, el inicio de la pandilla</td>\n",
       "      <td>80000000</td>\n",
       "      <td>4547660</td>\n",
       "      <td>0</td>\n",
       "    </tr>\n",
       "    <tr>\n",
       "      <th>4294</th>\n",
       "      <td>566</td>\n",
       "      <td>2012-12-31</td>\n",
       "      <td>Astérix et Obélix: Au service de Sa Majesté</td>\n",
       "      <td>77600000</td>\n",
       "      <td>60680125</td>\n",
       "      <td>0</td>\n",
       "    </tr>\n",
       "  </tbody>\n",
       "</table>\n",
       "</div>"
      ],
      "text/plain": [
       "      Rank Release_Date                                   Movie_Title   \n",
       "5388    96   2020-12-31                                   Singularity  \\\n",
       "5387   126   2018-12-18                                       Aquaman   \n",
       "5384   321   2018-09-03                             A Wrinkle in Time   \n",
       "5385   366   2018-10-08                                Amusement Park   \n",
       "5090   556   2015-12-31            Don Gato, el inicio de la pandilla   \n",
       "4294   566   2012-12-31  Astérix et Obélix: Au service de Sa Majesté    \n",
       "\n",
       "      USD_Production_Budget  USD_Worldwide_Gross  USD_Domestic_Gross  \n",
       "5388              175000000                    0                   0  \n",
       "5387              160000000                    0                   0  \n",
       "5384              103000000                    0                   0  \n",
       "5385              100000000                    0                   0  \n",
       "5090               80000000              4547660                   0  \n",
       "4294               77600000             60680125                   0  "
      ]
     },
     "execution_count": 12,
     "metadata": {},
     "output_type": "execute_result"
    }
   ],
   "source": [
    "zero_domestic=data[data.USD_Domestic_Gross==0]\n",
    "print(f\"Number of films that grossed $0 domestically {len(zero_domestic)}\")\n",
    "zero_domestic.sort_values('USD_Production_Budget',ascending=False).head(6)"
   ]
  },
  {
   "cell_type": "markdown",
   "metadata": {
    "id": "mY8SAwI0x73b"
   },
   "source": [
    "**Challenge**: How many films grossed $0 worldwide? What are the highest budget films that had no revenue internationally?"
   ]
  },
  {
   "cell_type": "code",
   "execution_count": 14,
   "metadata": {
    "id": "VpfocexxTXym"
   },
   "outputs": [
    {
     "name": "stdout",
     "output_type": "stream",
     "text": [
      "Number of films that grossed $0 worldwide 357\n"
     ]
    },
    {
     "data": {
      "text/html": [
       "<div>\n",
       "<style scoped>\n",
       "    .dataframe tbody tr th:only-of-type {\n",
       "        vertical-align: middle;\n",
       "    }\n",
       "\n",
       "    .dataframe tbody tr th {\n",
       "        vertical-align: top;\n",
       "    }\n",
       "\n",
       "    .dataframe thead th {\n",
       "        text-align: right;\n",
       "    }\n",
       "</style>\n",
       "<table border=\"1\" class=\"dataframe\">\n",
       "  <thead>\n",
       "    <tr style=\"text-align: right;\">\n",
       "      <th></th>\n",
       "      <th>Rank</th>\n",
       "      <th>Release_Date</th>\n",
       "      <th>Movie_Title</th>\n",
       "      <th>USD_Production_Budget</th>\n",
       "      <th>USD_Worldwide_Gross</th>\n",
       "      <th>USD_Domestic_Gross</th>\n",
       "    </tr>\n",
       "  </thead>\n",
       "  <tbody>\n",
       "    <tr>\n",
       "      <th>5388</th>\n",
       "      <td>96</td>\n",
       "      <td>2020-12-31</td>\n",
       "      <td>Singularity</td>\n",
       "      <td>175000000</td>\n",
       "      <td>0</td>\n",
       "      <td>0</td>\n",
       "    </tr>\n",
       "    <tr>\n",
       "      <th>5387</th>\n",
       "      <td>126</td>\n",
       "      <td>2018-12-18</td>\n",
       "      <td>Aquaman</td>\n",
       "      <td>160000000</td>\n",
       "      <td>0</td>\n",
       "      <td>0</td>\n",
       "    </tr>\n",
       "    <tr>\n",
       "      <th>5384</th>\n",
       "      <td>321</td>\n",
       "      <td>2018-09-03</td>\n",
       "      <td>A Wrinkle in Time</td>\n",
       "      <td>103000000</td>\n",
       "      <td>0</td>\n",
       "      <td>0</td>\n",
       "    </tr>\n",
       "    <tr>\n",
       "      <th>5385</th>\n",
       "      <td>366</td>\n",
       "      <td>2018-10-08</td>\n",
       "      <td>Amusement Park</td>\n",
       "      <td>100000000</td>\n",
       "      <td>0</td>\n",
       "      <td>0</td>\n",
       "    </tr>\n",
       "    <tr>\n",
       "      <th>5058</th>\n",
       "      <td>880</td>\n",
       "      <td>2015-11-12</td>\n",
       "      <td>The Ridiculous 6</td>\n",
       "      <td>60000000</td>\n",
       "      <td>0</td>\n",
       "      <td>0</td>\n",
       "    </tr>\n",
       "    <tr>\n",
       "      <th>5338</th>\n",
       "      <td>879</td>\n",
       "      <td>2017-04-08</td>\n",
       "      <td>The Dark Tower</td>\n",
       "      <td>60000000</td>\n",
       "      <td>0</td>\n",
       "      <td>0</td>\n",
       "    </tr>\n",
       "  </tbody>\n",
       "</table>\n",
       "</div>"
      ],
      "text/plain": [
       "      Rank Release_Date        Movie_Title  USD_Production_Budget   \n",
       "5388    96   2020-12-31        Singularity              175000000  \\\n",
       "5387   126   2018-12-18            Aquaman              160000000   \n",
       "5384   321   2018-09-03  A Wrinkle in Time              103000000   \n",
       "5385   366   2018-10-08     Amusement Park              100000000   \n",
       "5058   880   2015-11-12   The Ridiculous 6               60000000   \n",
       "5338   879   2017-04-08     The Dark Tower               60000000   \n",
       "\n",
       "      USD_Worldwide_Gross  USD_Domestic_Gross  \n",
       "5388                    0                   0  \n",
       "5387                    0                   0  \n",
       "5384                    0                   0  \n",
       "5385                    0                   0  \n",
       "5058                    0                   0  \n",
       "5338                    0                   0  "
      ]
     },
     "execution_count": 14,
     "metadata": {},
     "output_type": "execute_result"
    }
   ],
   "source": [
    "zero_worldwide=data[data.USD_Worldwide_Gross==0]\n",
    "print(f\"Number of films that grossed $0 worldwide {len(zero_worldwide)}\")\n",
    "zero_worldwide.sort_values('USD_Production_Budget',ascending=False).head(6)"
   ]
  },
  {
   "cell_type": "markdown",
   "metadata": {
    "id": "eXUDzWpeyV2f"
   },
   "source": [
    "### Filtering on Multiple Conditions"
   ]
  },
  {
   "cell_type": "code",
   "execution_count": null,
   "metadata": {
    "id": "dLd3eeD9TZZ9"
   },
   "outputs": [],
   "source": []
  },
  {
   "cell_type": "markdown",
   "metadata": {
    "id": "YruPjqLVPuiB"
   },
   "source": [
    "**Challenge**: Use the [`.query()` function](https://pandas.pydata.org/pandas-docs/stable/reference/api/pandas.DataFrame.query.html) to accomplish the same thing. Create a subset for international releases that had some worldwide gross revenue, but made zero revenue in the United States. \n",
    "\n",
    "Hint: This time you'll have to use the `and` keyword."
   ]
  },
  {
   "cell_type": "code",
   "execution_count": null,
   "metadata": {
    "id": "Xvu-jTCwTavg"
   },
   "outputs": [],
   "source": []
  },
  {
   "cell_type": "markdown",
   "metadata": {
    "id": "EM-FTE4OZhfr"
   },
   "source": [
    "### Unreleased Films\n",
    "\n",
    "**Challenge**:\n",
    "* Identify which films were not released yet as of the time of data collection (May 1st, 2018).\n",
    "* How many films are included in the dataset that have not yet had a chance to be screened in the box office? \n",
    "* Create another DataFrame called data_clean that does not include these films. "
   ]
  },
  {
   "cell_type": "code",
   "execution_count": null,
   "metadata": {
    "id": "PIukYVY9Zpxu"
   },
   "outputs": [],
   "source": [
    "# Date of Data Collection\n",
    "scrape_date = pd.Timestamp('2018-5-1')"
   ]
  },
  {
   "cell_type": "code",
   "execution_count": null,
   "metadata": {
    "id": "OAI0VsM3Tc6v"
   },
   "outputs": [],
   "source": []
  },
  {
   "cell_type": "markdown",
   "metadata": {
    "id": "khrJcXlGZWZO"
   },
   "source": [
    "### Films that Lost Money\n",
    "\n",
    "**Challenge**: \n",
    "What is the percentage of films where the production costs exceeded the worldwide gross revenue? "
   ]
  },
  {
   "cell_type": "code",
   "execution_count": null,
   "metadata": {
    "id": "7uW_U9StTgvZ"
   },
   "outputs": [],
   "source": []
  },
  {
   "cell_type": "markdown",
   "metadata": {
    "id": "cfJUL3WwyiDy"
   },
   "source": [
    "# Seaborn for Data Viz: Bubble Charts"
   ]
  },
  {
   "cell_type": "code",
   "execution_count": null,
   "metadata": {
    "id": "YXa3bp1uTiSS"
   },
   "outputs": [],
   "source": []
  },
  {
   "cell_type": "markdown",
   "metadata": {
    "id": "e7NIOiL2y3en"
   },
   "source": [
    "### Plotting Movie Releases over Time\n",
    "\n",
    "**Challenge**: Try to create the following Bubble Chart:\n",
    "\n",
    "<img src=https://i.imgur.com/8fUn9T6.png>\n",
    "\n"
   ]
  },
  {
   "cell_type": "code",
   "execution_count": null,
   "metadata": {
    "id": "OT0D-i3HTmsB"
   },
   "outputs": [],
   "source": []
  },
  {
   "cell_type": "markdown",
   "metadata": {
    "id": "r_2hFz9py84b"
   },
   "source": [
    "# Converting Years to Decades Trick\n",
    "\n",
    "**Challenge**: Create a column in `data_clean` that has the decade of the release. \n",
    "\n",
    "<img src=https://i.imgur.com/0VEfagw.png width=650> \n",
    "\n",
    "Here's how: \n",
    "1. Create a [`DatetimeIndex` object](https://pandas.pydata.org/pandas-docs/stable/reference/api/pandas.DatetimeIndex.html) from the Release_Date column. \n",
    "2. Grab all the years from the `DatetimeIndex` object using the `.year` property.\n",
    "<img src=https://i.imgur.com/5m06Ach.png width=650>\n",
    "3. Use floor division `//` to convert the year data to the decades of the films.\n",
    "4. Add the decades as a `Decade` column to the `data_clean` DataFrame."
   ]
  },
  {
   "cell_type": "code",
   "execution_count": null,
   "metadata": {
    "id": "lak08IPMTn-j"
   },
   "outputs": [],
   "source": []
  },
  {
   "cell_type": "markdown",
   "metadata": {
    "id": "q-X7NK_9zIz9"
   },
   "source": [
    "### Separate the \"old\" (before 1969) and \"New\" (1970s onwards) Films\n",
    "\n",
    "**Challenge**: Create two new DataFrames: `old_films` and `new_films`\n",
    "* `old_films` should include all the films before 1969 (up to and including 1969)\n",
    "* `new_films` should include all the films from 1970 onwards\n",
    "* How many films were released prior to 1970?\n",
    "* What was the most expensive film made prior to 1970?"
   ]
  },
  {
   "cell_type": "code",
   "execution_count": null,
   "metadata": {
    "id": "qe93nMcBTqQz"
   },
   "outputs": [],
   "source": []
  },
  {
   "cell_type": "markdown",
   "metadata": {
    "id": "msXABzF3zW7e"
   },
   "source": [
    "# Seaborn Regression Plots"
   ]
  },
  {
   "cell_type": "code",
   "execution_count": null,
   "metadata": {
    "id": "2ajPcWMJTsom"
   },
   "outputs": [],
   "source": []
  },
  {
   "cell_type": "markdown",
   "metadata": {
    "id": "6k4MeLmxWFwX"
   },
   "source": [
    "**Challenge**: Use Seaborn's `.regplot()` to show the scatter plot and linear regression line against the `new_films`. \n",
    "<br>\n",
    "<br>\n",
    "Style the chart\n",
    "\n",
    "* Put the chart on a `'darkgrid'`.\n",
    "* Set limits on the axes so that they don't show negative values.\n",
    "* Label the axes on the plot \"Revenue in \\$ billions\" and \"Budget in \\$ millions\".\n",
    "* Provide HEX colour codes for the plot and the regression line. Make the dots dark blue (#2f4b7c) and the line orange (#ff7c43).\n",
    "\n",
    "Interpret the chart\n",
    "\n",
    "* Do our data points for the new films align better or worse with the linear regression than for our older films?\n",
    "* Roughly how much would a film with a budget of $150 million make according to the regression line?"
   ]
  },
  {
   "cell_type": "code",
   "execution_count": null,
   "metadata": {
    "id": "6cOVsxqvTui2"
   },
   "outputs": [],
   "source": []
  },
  {
   "cell_type": "markdown",
   "metadata": {
    "id": "Q1SUPPMAzlVK"
   },
   "source": [
    "# Run Your Own Regression with scikit-learn\n",
    "\n",
    "$$ REV \\hat ENUE = \\theta _0 + \\theta _1 BUDGET$$"
   ]
  },
  {
   "cell_type": "code",
   "execution_count": null,
   "metadata": {
    "id": "QmX-wMMLTwBW"
   },
   "outputs": [],
   "source": []
  },
  {
   "cell_type": "markdown",
   "metadata": {
    "id": "o23E9iT1RHQ1"
   },
   "source": [
    "**Challenge**: Run a linear regression for the `old_films`. Calculate the intercept, slope and r-squared. How much of the variance in movie revenue does the linear model explain in this case?"
   ]
  },
  {
   "cell_type": "code",
   "execution_count": null,
   "metadata": {
    "id": "Sd43DJNDT0yQ"
   },
   "outputs": [],
   "source": []
  },
  {
   "cell_type": "code",
   "execution_count": null,
   "metadata": {
    "id": "ygKsLBx5Rs7t"
   },
   "outputs": [],
   "source": []
  },
  {
   "cell_type": "markdown",
   "metadata": {
    "id": "hoD3PeG75p78"
   },
   "source": [
    "# Use Your Model to Make a Prediction\n",
    "\n",
    "We just estimated the slope and intercept! Remember that our Linear Model has the following form:\n",
    "\n",
    "$$ REV \\hat ENUE = \\theta _0 + \\theta _1 BUDGET$$\n",
    "\n",
    "**Challenge**:  How much global revenue does our model estimate for a film with a budget of $350 million? "
   ]
  },
  {
   "cell_type": "code",
   "execution_count": null,
   "metadata": {
    "id": "fX4I4h5i5rgF"
   },
   "outputs": [],
   "source": []
  },
  {
   "cell_type": "code",
   "execution_count": null,
   "metadata": {
    "id": "fB2Yp8ln5qfO"
   },
   "outputs": [],
   "source": []
  }
 ],
 "metadata": {
  "colab": {
   "name": "Seaborn and Linear Regression (start).ipynb",
   "provenance": []
  },
  "kernelspec": {
   "display_name": "Python 3 (ipykernel)",
   "language": "python",
   "name": "python3"
  },
  "language_info": {
   "codemirror_mode": {
    "name": "ipython",
    "version": 3
   },
   "file_extension": ".py",
   "mimetype": "text/x-python",
   "name": "python",
   "nbconvert_exporter": "python",
   "pygments_lexer": "ipython3",
   "version": "3.11.2"
  }
 },
 "nbformat": 4,
 "nbformat_minor": 1
}
